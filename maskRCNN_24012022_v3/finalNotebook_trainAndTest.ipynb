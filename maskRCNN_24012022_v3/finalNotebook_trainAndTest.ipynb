{
 "cells": [
  {
   "cell_type": "code",
   "execution_count": null,
   "id": "899a0e49",
   "metadata": {},
   "outputs": [],
   "source": [
    "!rm -r Mask_RCNN_withRW\n",
    "!rm -r Mask_RCNN_withRW.zip\n",
    "!rm -r __MACOSX"
   ]
  },
  {
   "cell_type": "code",
   "execution_count": null,
   "id": "beeff876",
   "metadata": {},
   "outputs": [],
   "source": [
    "!wget https://www.dropbox.com/s/z8ux8vw2l2cmq7k/Mask_RCNN_withRW.zip\n",
    "!unzip Mask_RCNN_withRW.zip"
   ]
  },
  {
   "cell_type": "code",
   "execution_count": null,
   "id": "e7e33b06",
   "metadata": {},
   "outputs": [],
   "source": [
    "!pip install tensorflow-gpu==1.15.0\n",
    "!pip install --upgrade h5py==2.10.0"
   ]
  },
  {
   "cell_type": "code",
   "execution_count": null,
   "id": "57ce8163",
   "metadata": {},
   "outputs": [],
   "source": [
    "import sys\n",
    "sys.path.append(\"Mask_RCNN_withRW/mrcnn\")"
   ]
  },
  {
   "cell_type": "code",
   "execution_count": null,
   "id": "859c96a1",
   "metadata": {},
   "outputs": [],
   "source": [
    "from m_rcnn import *\n",
    "%matplotlib inline"
   ]
  },
  {
   "cell_type": "code",
   "execution_count": null,
   "id": "f5a32fd9",
   "metadata": {},
   "outputs": [],
   "source": [
    "## Create zip file for the images to consider for our training set\n",
    "\n",
    "import shutil\n",
    "\n",
    "# copy images from test to the images of train\n",
    "!cp -r \"../testImages\" \"../trainImages\" ##copy the folder testImages into trainImages\n",
    "!cp -r \"../trainImages/testImages/\" \"../trainImages\" ##copy the content of the folder testImages into the folder trainImages\n",
    "\n",
    "!rm -r \"../trainImages/testImages\" ##remove the folder testImages copied inside trainImages\n",
    "\n",
    "# create zip file\n",
    "shutil.make_archive(\"trainingDataset\", 'zip', \"../trainImages\")"
   ]
  },
  {
   "cell_type": "code",
   "execution_count": null,
   "id": "e9ad73db",
   "metadata": {},
   "outputs": [],
   "source": [
    "## Extract Images\n",
    "\n",
    "images_path = \"trainingDataset.zip\"\n",
    "annotations_path = \"../trainAnnotations/annotations.json\"\n",
    "\n",
    "extract_images(os.path.join(\"\",images_path), \"dataset\")"
   ]
  },
  {
   "cell_type": "code",
   "execution_count": null,
   "id": "d8cf7cd8",
   "metadata": {},
   "outputs": [],
   "source": [
    "dataset_train = load_image_dataset(os.path.join(\"\", annotations_path), \"dataset\", \"train\")\n",
    "dataset_val = load_image_dataset(os.path.join(\"\", annotations_path), \"dataset\", \"val\")\n",
    "\n",
    "class_number = dataset_train.count_classes()\n",
    "print('Train: %d' % len(dataset_train.image_ids))\n",
    "print('Validation: %d' % len(dataset_val.image_ids))\n",
    "print(\"Classes: {}\".format(class_number))"
   ]
  },
  {
   "cell_type": "code",
   "execution_count": null,
   "id": "233f6b5e",
   "metadata": {},
   "outputs": [],
   "source": [
    "# Load image samples\n",
    "display_image_samples(dataset_train)"
   ]
  },
  {
   "cell_type": "code",
   "execution_count": null,
   "id": "63da2e7d",
   "metadata": {},
   "outputs": [],
   "source": [
    "# Load Configuration\n",
    "config = CustomConfig(class_number)\n",
    "\n",
    "#config.display()\n",
    "model = load_training_model(config)"
   ]
  },
  {
   "cell_type": "markdown",
   "id": "bdf44c00",
   "metadata": {},
   "source": [
    "TRAINING:"
   ]
  },
  {
   "cell_type": "code",
   "execution_count": null,
   "id": "f1260f72",
   "metadata": {},
   "outputs": [],
   "source": [
    "# Start Training\n",
    "# This operation might take a long time.\n",
    "train_head(model, dataset_train, dataset_train, config)"
   ]
  },
  {
   "cell_type": "markdown",
   "id": "f69988c8",
   "metadata": {},
   "source": [
    "TESTING:"
   ]
  },
  {
   "cell_type": "code",
   "execution_count": null,
   "id": "e6713f31",
   "metadata": {},
   "outputs": [],
   "source": [
    "from visualize import random_colors, get_mask_contours, draw_mask"
   ]
  },
  {
   "cell_type": "code",
   "execution_count": null,
   "id": "90d34998",
   "metadata": {},
   "outputs": [],
   "source": [
    "import os\n",
    "\n",
    "list = os.listdir(\"../testImages\") # dir is your directory path\n",
    "number_files = len(list)\n",
    "print(number_files)"
   ]
  },
  {
   "cell_type": "code",
   "execution_count": null,
   "id": "2ff35bfd",
   "metadata": {},
   "outputs": [],
   "source": [
    "loc = \"../testImages\" \n",
    "\n",
    "names=[] \n",
    "\n",
    "for images in os.listdir(loc): \n",
    "    file = loc+\"/\"+images\n",
    "    filestr = file.split(\"/\")\n",
    "    \n",
    "    names.append(filestr[2])"
   ]
  },
  {
   "cell_type": "code",
   "execution_count": null,
   "id": "f927890c",
   "metadata": {},
   "outputs": [],
   "source": [
    "!pip install opencv-python"
   ]
  },
  {
   "cell_type": "code",
   "execution_count": null,
   "id": "d7fece16",
   "metadata": {},
   "outputs": [],
   "source": [
    "## if you want to infer results from the already trained model you have to download the .h5 file (which we uploaded on DropBox)\n",
    "\n",
    "!wget \"https://www.dropbox.com/s/evfvlt3eitqpnkr/mask_rcnn_object_0005.h5\""
   ]
  },
  {
   "cell_type": "code",
   "execution_count": null,
   "id": "632ecd9d",
   "metadata": {},
   "outputs": [],
   "source": [
    "import cv2\n",
    "import numpy as np\n",
    "\n",
    "test_model, inference_config = load_inference_model(1, \"/mask_rcnn_object_0005.h5\")\n",
    "\n",
    "# Load Image\n",
    "for images in range(number_files):\n",
    "    print(\"=========================\")\n",
    "    print(\"Processing image: \", images)\n",
    "    \n",
    "    img = cv2.imread(\"../testImages/\"+names[images])\n",
    "    image = cv2.cvtColor(img, cv2.COLOR_BGR2RGB)\n",
    "\n",
    "    # Detect results\n",
    "    r = test_model.detect([image])[0]\n",
    "    colors = random_colors(80)\n",
    "    \n",
    "    ## Save picture with colored mask in the folder \"outputImagesWithMasksColors\"\n",
    "    object_count = len(r[\"class_ids\"])\n",
    "\n",
    "    for i in range(object_count):\n",
    "        # 1. Mask\n",
    "        mask = r[\"masks\"][:, :, i]\n",
    "        contours = get_mask_contours(mask)\n",
    "\n",
    "        for cnt in contours:\n",
    "            cv2.polylines(img, [cnt], True, colors[i], 2)\n",
    "            img = draw_mask(img, [cnt], colors[i])\n",
    "\n",
    "    cv2.imwrite(os.path.join(\"../outputImagesWithMasksColors\" , 'names[images]'), img)\n",
    "    \n",
    "    ## Create the mask in black and white\n",
    "    height, width, channels = image.shape\n",
    "    image_shape = height, width\n",
    "    \n",
    "    ## We want a black and white image to pass to the annotation script\n",
    "    black_image = np.zeros((height,width,3), np.uint8)\n",
    "    white = (255, 255, 255)\n",
    "    \n",
    "    ## Save the mask in B&W in the folder \"outputImagesWithMasksBlackAndWhite\"\n",
    "    object_count = len(r[\"class_ids\"])\n",
    "    \n",
    "    for i in range(object_count):\n",
    "        # 1. Mask\n",
    "        mask = r[\"masks\"][:, :, i]\n",
    "        contours = get_mask_contours(mask)\n",
    "        for cnt in contours:\n",
    "            black_image = draw_mask(black_image, [cnt], white)\n",
    "            cv2.polylines(black_image, [cnt], True, white, 2)\n",
    "            cv2.fillPoly(black_image, [cnt], white))\n",
    "            black_image = draw_mask(black_image, [cnt], white)\n",
    "            cv2.polylines(black_image, [cnt], True, white, 2)\n",
    "    \n",
    "    imgAux = names[images].split(\".\")\n",
    "    cv2.imwrite(os.path.join(\"../outputImagesWithMasksColors\" , 'names[images]'), img2)"
   ]
  },
  {
   "cell_type": "markdown",
   "id": "ca0ff726",
   "metadata": {},
   "source": [
    "RUN THE MASK2COCO SCRIPT IN ORDER TO CREATE THE ANNOTATION FILE:"
   ]
  },
  {
   "cell_type": "code",
   "execution_count": null,
   "id": "8fc23ed7",
   "metadata": {},
   "outputs": [],
   "source": [
    "!ipython ../mask2COCO/mask_to_coco_converter.py"
   ]
  },
  {
   "cell_type": "code",
   "execution_count": null,
   "id": "5fac6a5e",
   "metadata": {},
   "outputs": [],
   "source": [
    "## now we can delete the images contained in testImages folder (not the folder itself) because they became part of the trainImages\n",
    "!rm ../testImages/*"
   ]
  },
  {
   "cell_type": "code",
   "execution_count": null,
   "id": "98db6d9c",
   "metadata": {},
   "outputs": [],
   "source": [
    "## now we can delete the .h5 from the local directory\n",
    "!rm mask_rcnn_object_0005.h5"
   ]
  }
 ],
 "metadata": {
  "kernelspec": {
   "display_name": "Python 3 (ipykernel)",
   "language": "python",
   "name": "python3"
  },
  "language_info": {
   "codemirror_mode": {
    "name": "ipython",
    "version": 3
   },
   "file_extension": ".py",
   "mimetype": "text/x-python",
   "name": "python",
   "nbconvert_exporter": "python",
   "pygments_lexer": "ipython3",
   "version": "3.9.7"
  }
 },
 "nbformat": 4,
 "nbformat_minor": 5
}
