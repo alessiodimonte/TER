{
 "cells": [
  {
   "cell_type": "code",
   "execution_count": null,
   "id": "9875ee18",
   "metadata": {},
   "outputs": [],
   "source": [
    "!rm -r Mask_RCNN_withRW\n",
    "!rm -r Mask_RCNN_withRW.zip\n",
    "!rm -r __MACOSX"
   ]
  },
  {
   "cell_type": "code",
   "execution_count": null,
   "id": "13714fa5",
   "metadata": {},
   "outputs": [],
   "source": [
    "!wget https://www.dropbox.com/s/z8ux8vw2l2cmq7k/Mask_RCNN_withRW.zip\n",
    "!unzip Mask_RCNN_withRW.zip"
   ]
  },
  {
   "cell_type": "code",
   "execution_count": null,
   "id": "cfcabf68",
   "metadata": {},
   "outputs": [],
   "source": [
    "import sys\n",
    "sys.path.append(\"Mask_RCNN_withRW/mrcnn\")\n",
    "from m_rcnn import *\n",
    "%matplotlib inline"
   ]
  },
  {
   "cell_type": "code",
   "execution_count": null,
   "id": "3fd68dc7",
   "metadata": {},
   "outputs": [],
   "source": [
    "## if you want to infer results from the already trained model you have to download the .h5 file (which we uploaded on DropBox)\n",
    "\n",
    "!wget \"https://www.dropbox.com/s/evfvlt3eitqpnkr/mask_rcnn_object_0005.h5\""
   ]
  },
  {
   "cell_type": "code",
   "execution_count": null,
   "id": "6fee0fb2",
   "metadata": {},
   "outputs": [],
   "source": [
    "from visualize import random_colors, get_mask_contours, draw_mask"
   ]
  },
  {
   "cell_type": "code",
   "execution_count": null,
   "id": "6e9171c3",
   "metadata": {},
   "outputs": [],
   "source": [
    "list = os.listdir(\"../testImages\")\n",
    "number_files = len(list)\n",
    "print(number_files)"
   ]
  },
  {
   "cell_type": "code",
   "execution_count": null,
   "id": "986c6760",
   "metadata": {},
   "outputs": [],
   "source": [
    "loc = \"../testImages\" \n",
    "\n",
    "names=[] \n",
    "\n",
    "for images in os.listdir(loc): \n",
    "    file = loc+\"/\"+images\n",
    "    filestr = file.split(\"/\")\n",
    "    names.append(filestr[6])"
   ]
  },
  {
   "cell_type": "code",
   "execution_count": null,
   "id": "1ef46a06",
   "metadata": {},
   "outputs": [],
   "source": [
    "import cv2\n",
    "import numpy as np\n",
    "\n",
    "test_model, inference_config = load_inference_model(1, \"/mask_rcnn_object_0005.h5\")\n",
    "\n",
    "# Load Image\n",
    "for images in range(number_files):\n",
    "    print(\"=========================\")\n",
    "    print(\"Processing image: \", images)\n",
    "    \n",
    "    img = cv2.imread(\"../testImages/\"+names[images])\n",
    "    image = cv2.cvtColor(img, cv2.COLOR_BGR2RGB)\n",
    "\n",
    "    # Detect results\n",
    "    r = test_model.detect([image])[0]\n",
    "    colors = random_colors(80)\n",
    "    \n",
    "    ## Save picture with colored mask in the folder \"outputImagesWithMasksColors\"\n",
    "    object_count = len(r[\"class_ids\"])\n",
    "\n",
    "    for i in range(object_count):\n",
    "        # 1. Mask\n",
    "        mask = r[\"masks\"][:, :, i]\n",
    "        contours = get_mask_contours(mask)\n",
    "\n",
    "        for cnt in contours:\n",
    "            cv2.polylines(img, [cnt], True, colors[i], 2)\n",
    "            img = draw_mask(img, [cnt], colors[i])\n",
    "\n",
    "    cv2.imwrite(os.path.join(\"../outputImagesWithMasksColors\" , 'names[images]'), img)\n",
    "    \n",
    "    ## Create the mask in black and white\n",
    "    height, width, channels = image.shape\n",
    "    image_shape = height, width\n",
    "    \n",
    "    ## We want a black and white image to pass to the annotation script\n",
    "    black_image = np.zeros((height,width,3), np.uint8)\n",
    "    white = (255, 255, 255)\n",
    "    \n",
    "    ## Save the mask in B&W in the folder \"outputImagesWithMasksBlackAndWhite\"\n",
    "    object_count = len(r[\"class_ids\"])\n",
    "    \n",
    "    for i in range(object_count):\n",
    "        # 1. Mask\n",
    "        mask = r[\"masks\"][:, :, i]\n",
    "        contours = get_mask_contours(mask)\n",
    "        for cnt in contours:\n",
    "            black_image = draw_mask(black_image, [cnt], white)\n",
    "            cv2.polylines(black_image, [cnt], True, white, 2)\n",
    "            cv2.fillPoly(black_image, [cnt], white))\n",
    "            black_image = draw_mask(black_image, [cnt], white)\n",
    "            cv2.polylines(black_image, [cnt], True, white, 2)\n",
    "    \n",
    "    imgAux = names[images].split(\".\")\n",
    "    cv2.imwrite(os.path.join(\"../outputImagesWithMasksColors\" , 'names[images]'), img2)"
   ]
  },
  {
   "cell_type": "code",
   "execution_count": null,
   "id": "d3c3d475",
   "metadata": {},
   "outputs": [],
   "source": [
    "!ipython ../mask2COCO/mask_to_coco_converter.py"
   ]
  }
 ],
 "metadata": {
  "kernelspec": {
   "display_name": "Python 3 (ipykernel)",
   "language": "python",
   "name": "python3"
  },
  "language_info": {
   "codemirror_mode": {
    "name": "ipython",
    "version": 3
   },
   "file_extension": ".py",
   "mimetype": "text/x-python",
   "name": "python",
   "nbconvert_exporter": "python",
   "pygments_lexer": "ipython3",
   "version": "3.9.7"
  }
 },
 "nbformat": 4,
 "nbformat_minor": 5
}
