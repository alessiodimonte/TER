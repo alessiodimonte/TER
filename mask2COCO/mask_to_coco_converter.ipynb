{
 "cells": [
  {
   "cell_type": "code",
   "execution_count": 1,
   "metadata": {},
   "outputs": [
    {
     "name": "stdout",
     "output_type": "stream",
     "text": [
      "Requirement already satisfied: Shapely in c:\\users\\apina\\anaconda3\\lib\\site-packages (1.8.0)\n"
     ]
    },
    {
     "name": "stderr",
     "output_type": "stream",
     "text": [
      "WARNING: Ignoring invalid distribution -umpy (c:\\users\\apina\\anaconda3\\lib\\site-packages)\n",
      "WARNING: Ignoring invalid distribution -orchvision (c:\\users\\apina\\anaconda3\\lib\\site-packages)\n",
      "WARNING: Ignoring invalid distribution -orch (c:\\users\\apina\\anaconda3\\lib\\site-packages)\n",
      "WARNING: Ignoring invalid distribution -umpy (c:\\users\\apina\\anaconda3\\lib\\site-packages)\n",
      "WARNING: Ignoring invalid distribution -orchvision (c:\\users\\apina\\anaconda3\\lib\\site-packages)\n",
      "WARNING: Ignoring invalid distribution -orch (c:\\users\\apina\\anaconda3\\lib\\site-packages)\n",
      "WARNING: Ignoring invalid distribution -umpy (c:\\users\\apina\\anaconda3\\lib\\site-packages)\n",
      "WARNING: Ignoring invalid distribution -orchvision (c:\\users\\apina\\anaconda3\\lib\\site-packages)\n",
      "WARNING: Ignoring invalid distribution -orch (c:\\users\\apina\\anaconda3\\lib\\site-packages)\n",
      "WARNING: Ignoring invalid distribution -umpy (c:\\users\\apina\\anaconda3\\lib\\site-packages)\n",
      "WARNING: Ignoring invalid distribution -orchvision (c:\\users\\apina\\anaconda3\\lib\\site-packages)\n",
      "WARNING: Ignoring invalid distribution -orch (c:\\users\\apina\\anaconda3\\lib\\site-packages)\n",
      "WARNING: Ignoring invalid distribution -umpy (c:\\users\\apina\\anaconda3\\lib\\site-packages)\n",
      "WARNING: Ignoring invalid distribution -orchvision (c:\\users\\apina\\anaconda3\\lib\\site-packages)\n",
      "WARNING: Ignoring invalid distribution -orch (c:\\users\\apina\\anaconda3\\lib\\site-packages)\n",
      "WARNING: Ignoring invalid distribution -umpy (c:\\users\\apina\\anaconda3\\lib\\site-packages)\n",
      "WARNING: Ignoring invalid distribution -orchvision (c:\\users\\apina\\anaconda3\\lib\\site-packages)\n",
      "WARNING: Ignoring invalid distribution -orch (c:\\users\\apina\\anaconda3\\lib\\site-packages)\n"
     ]
    }
   ],
   "source": [
    "! pip install Shapely"
   ]
  },
  {
   "cell_type": "code",
   "execution_count": 13,
   "metadata": {},
   "outputs": [
    {
     "name": "stdout",
     "output_type": "stream",
     "text": [
      "n_images 3\n",
      "---------------------------------\n",
      "Image 1 of 3\n",
      "---------------------------------\n",
      "---------------------------------\n",
      "Image 2 of 3\n",
      "---------------------------------\n",
      "---------------------------------\n",
      "Image 3 of 3\n",
      "---------------------------------\n",
      "Created 22 annotations for images in folder: dataset/annotations_mask/\n"
     ]
    }
   ],
   "source": [
    "import glob\n",
    "\n",
    "from src.create_annotations import *\n",
    "\n",
    "# Label ids of the dataset\n",
    "category_ids = {\n",
    "    \"fish\": 1\n",
    "}\n",
    "\n",
    "# Define which colors match which categories in the images\n",
    "category_colors = {\n",
    "    \"(255, 255, 255)\": 1 # Fish\n",
    "}\n",
    "\n",
    "# Define the ids that are a multiplolygon. In our case: wall, roof and sky\n",
    "multipolygon_ids = [2, 5, 6]\n",
    "\n",
    "# Get \"images\" and \"annotations\" info \n",
    "def images_annotations_info(maskpath):\n",
    "    # This id will be automatically increased as we go\n",
    "    annotation_id = 0\n",
    "    image_id = 0\n",
    "    annotations = []\n",
    "    images = []\n",
    "    \n",
    "    n_images = len(glob.glob(maskpath + \"*.png\"))\n",
    "    print(\"n_images\", n_images)\n",
    "    cont = 0\n",
    "    for mask_image in glob.glob(maskpath + \"*.png\"):\n",
    "        cont = cont + 1\n",
    "        print(\"---------------------------------\")\n",
    "        print(\"Image\", cont, \"of\", n_images)\n",
    "        print(\"---------------------------------\")\n",
    "        # The mask image is *.jpg but the original image is *.png.\n",
    "        # We make a reference to the original file in the COCO JSON file\n",
    "        original_file_name = os.path.basename(mask_image).split(\".\")[0] + \".jpg\"\n",
    "\n",
    "        # Open the image and (to be sure) we convert it to RGB\n",
    "        mask_image_open = Image.open(mask_image).convert(\"RGB\")\n",
    "        w, h = mask_image_open.size\n",
    "        \n",
    "        # \"images\" info \n",
    "        image = create_image_annotation(original_file_name, w, h, image_id)\n",
    "        images.append(image)\n",
    "\n",
    "        sub_masks = create_sub_masks(mask_image_open, w, h)\n",
    "        for color, sub_mask in sub_masks.items():\n",
    "           \n",
    "            if color == '(255, 255, 255)':\n",
    "                category_id = category_colors[color]\n",
    "\n",
    "                # \"annotations\" info\n",
    "                polygons, segmentations = create_sub_mask_annotation(sub_mask)\n",
    "\n",
    "                # Check if we have classes that are a multipolygon\n",
    "                if category_id in multipolygon_ids:\n",
    "                    # Combine the polygons to calculate the bounding box and area\n",
    "                    multi_poly = MultiPolygon(polygons)\n",
    "                                \n",
    "                    annotation = create_annotation_format(multi_poly, segmentations, image_id, category_id, annotation_id)\n",
    "\n",
    "                    annotations.append(annotation)\n",
    "                    annotation_id += 1\n",
    "                else:\n",
    "                    for i in range(len(polygons)):\n",
    "                        # Cleaner to recalculate this variable\n",
    "                        segmentation = [np.array(polygons[i].exterior.coords).ravel().tolist()]\n",
    "                    \n",
    "                        annotation = create_annotation_format(polygons[i], segmentation, image_id, category_id, annotation_id)\n",
    "                    \n",
    "                        annotations.append(annotation)\n",
    "                        annotation_id += 1\n",
    "                image_id += 1\n",
    "       \n",
    "                \n",
    "    return images, annotations, annotation_id\n",
    "\n",
    "if __name__ == \"__main__\":\n",
    "    # Get the standard COCO JSON format\n",
    "    coco_format = get_coco_json_format()\n",
    "    \n",
    "    for keyword in [\"annotations\"]:\n",
    "        mask_path = \"dataset/{}_mask/\".format(keyword)\n",
    "        \n",
    "        # Create category section\n",
    "        coco_format[\"categories\"] = create_category_annotation(category_ids)\n",
    "    \n",
    "        # Create images and annotations sections\n",
    "        coco_format[\"images\"], coco_format[\"annotations\"], annotation_cnt = images_annotations_info(mask_path)\n",
    "\n",
    "        with open(\"output/{}.json\".format(keyword),\"w\") as outfile:\n",
    "            json.dump(coco_format, outfile)\n",
    "        \n",
    "        print(\"Created %d annotations for images in folder: %s\" % (annotation_cnt, mask_path))"
   ]
  }
 ],
 "metadata": {
  "kernelspec": {
   "display_name": "Python 3 (ipykernel)",
   "language": "python",
   "name": "python3"
  },
  "language_info": {
   "codemirror_mode": {
    "name": "ipython",
    "version": 3
   },
   "file_extension": ".py",
   "mimetype": "text/x-python",
   "name": "python",
   "nbconvert_exporter": "python",
   "pygments_lexer": "ipython3",
   "version": "3.8.12"
  }
 },
 "nbformat": 4,
 "nbformat_minor": 4
}
