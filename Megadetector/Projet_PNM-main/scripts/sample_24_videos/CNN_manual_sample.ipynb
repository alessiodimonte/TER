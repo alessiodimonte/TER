{
  "nbformat": 4,
  "nbformat_minor": 0,
  "metadata": {
    "colab": {
      "name": "CNN_manual_sample",
      "provenance": [],
      "collapsed_sections": [],
      "toc_visible": true
    },
    "kernelspec": {
      "name": "python3",
      "display_name": "Python 3"
    },
    "accelerator": "GPU"
  },
  "cells": [
    {
      "cell_type": "code",
      "metadata": {
        "id": "lGoyvBF99IG_",
        "colab_type": "code",
        "colab": {
          "base_uri": "https://localhost:8080/",
          "height": 71
        },
        "outputId": "58dcafa7-4b20-4220-9104-3c06f56d866a"
      },
      "source": [
        "from sklearn.model_selection import train_test_split\n",
        "from sklearn.preprocessing import LabelEncoder\n",
        "from sklearn.metrics import classification_report\n",
        "from sklearn.metrics import confusion_matrix\n",
        "\n",
        "from collections import Counter\n",
        "\n",
        "import matplotlib.pyplot as plt\n",
        "import numpy as np\n",
        "import cv2\n",
        "import os\n",
        "\n",
        "from keras.models import Sequential\n",
        "from keras.layers.normalization import BatchNormalization\n",
        "from keras.layers import Input\n",
        "from keras.utils import to_categorical\n",
        "from keras.utils import np_utils\n",
        "from keras.regularizers import l2\n",
        "from keras import backend as K\n",
        "from keras.optimizers import Adam\n",
        "from tensorflow.keras.callbacks import EarlyStopping\n",
        "from tensorflow.keras.optimizers import RMSprop, SGD\n",
        "from tensorflow.keras.applications.vgg16 import VGG16\n",
        "from tensorflow.keras.applications.vgg19 import VGG19\n",
        "from tensorflow.keras.preprocessing import image\n",
        "from tensorflow.keras.applications.vgg16 import preprocess_input\n",
        "from tensorflow.keras.models import Model\n",
        "from tensorflow.keras.layers import Dense, GlobalAveragePooling2D, Activation, Dropout, Flatten, Conv2D, MaxPooling2D\n",
        "import keras\n",
        "from tensorflow.keras import layers\n",
        "from tensorflow.keras.preprocessing.image import ImageDataGenerator\n",
        "\n",
        "import glob\n",
        "\n",
        "from tqdm import tqdm\n",
        "\n",
        "import seaborn as sn\n",
        "import pandas as pd\n",
        "\n",
        "import pylab"
      ],
      "execution_count": null,
      "outputs": [
        {
          "output_type": "stream",
          "text": [
            "/usr/local/lib/python3.6/dist-packages/statsmodels/tools/_testing.py:19: FutureWarning: pandas.util.testing is deprecated. Use the functions in the public API at pandas.testing instead.\n",
            "  import pandas.util.testing as tm\n"
          ],
          "name": "stderr"
        }
      ]
    },
    {
      "cell_type": "markdown",
      "metadata": {
        "id": "vDmWiP50rVqb",
        "colab_type": "text"
      },
      "source": [
        "### I. **Preprocessing images**  \n",
        "labels\n",
        "\n",
        "resize\n",
        "\n",
        "scale\n"
      ]
    },
    {
      "cell_type": "code",
      "metadata": {
        "id": "zpXebWUCLPbv",
        "colab_type": "code",
        "colab": {}
      },
      "source": [
        "data = []\n",
        "labels = []\n",
        "\n",
        "dir_sample = \"/content/drive/My Drive/projet_mercantour/sample/TVT1/\"\n",
        "videoList = os.listdir(dir_sample)\n",
        "\n",
        "for path in videoList:\n",
        "\n",
        "  firstdir = os.path.join(dir_sample,path)\n",
        "  firstdirtList = os.listdir(firstdir)\n",
        "\n",
        "  # r=root, d=directories, f = files \n",
        "  for r, d, f in os.walk(firstdir):\n",
        "    for file in f:\n",
        "      if file.endswith(\".jpg\"):\n",
        "        \n",
        "        imagePath = os.path.join(r, file)\n",
        "        image = cv2.imread(imagePath)\n",
        "        label = imagePath.split(os.path.sep)[-2]\n",
        "\n",
        "        #resize picture\n",
        "        image = cv2.resize(image,(224,224))#VGG16/19 (224x224x3RGB)\n",
        "\n",
        "        data.append(image)\n",
        "        labels.append(label)\n",
        "\n",
        "#print(image)\n",
        "#print(labels)\n",
        "\n",
        "# scale the raw pixel intensities to the range [0, 1]\n",
        "data = np.array(data, dtype=\"float\") / 255.0\n",
        "labels = np.array(labels)\n",
        "#print(labels)"
      ],
      "execution_count": null,
      "outputs": []
    },
    {
      "cell_type": "markdown",
      "metadata": {
        "id": "KNPGQqBCvTXJ",
        "colab_type": "text"
      },
      "source": [
        "### II. **Training-Validation-Testing**"
      ]
    },
    {
      "cell_type": "code",
      "metadata": {
        "id": "U81EJBSVOCm6",
        "colab_type": "code",
        "colab": {}
      },
      "source": [
        "# train 80% / validation 10% /test 10%\n",
        "# X images and Y labels\n",
        "# total =468\n",
        "\n",
        "# Train + Validation (trainfull) 90% and Testing 10%\n",
        "(trainfullX, testX, trainfullY, testY) = train_test_split(data, labels,test_size=0.1, random_state=42)\n",
        "#print(len(trainfullY),len(testY)) #421/47\n",
        "plt.figure(figsize=(15,5))\n",
        "plt.hist(trainfullY,bins=15, color='#0504aa',alpha=0.7, rwidth=0.85)\n",
        "plt.show()\n",
        "\n",
        "# Train 80% de 468 + Validation 10% de 468\n",
        "(trainX,valX,trainY,valY) = train_test_split(trainfullX,trainfullY,test_size=0.11,random_state=42)\n",
        "#print(len(trainY),len(valY)) #374/47\n",
        "\n",
        "print(Counter(trainY))\n",
        "print(Counter(valY))\n",
        "print(Counter(testY))\n",
        "\n",
        "#print(len(np.unique(trainfullY)))\n",
        "#print(len(np.unique(trainY)))\n",
        "#print(len(np.unique(valY)))\n",
        "#print(len(np.unique(testY)))\n",
        "\n",
        "# convert the labels from integers to vectors\n",
        "le = LabelEncoder().fit(trainY)\n",
        "trainY = np_utils.to_categorical(le.transform(trainY),15)\n",
        "valY = np_utils.to_categorical(le.transform(valY),15)\n",
        "testY = np_utils.to_categorical(le.transform(testY),15)"
      ],
      "execution_count": null,
      "outputs": []
    },
    {
      "cell_type": "markdown",
      "metadata": {
        "id": "gwxqjdg3Zax3",
        "colab_type": "text"
      },
      "source": [
        "**show pictures**"
      ]
    },
    {
      "cell_type": "code",
      "metadata": {
        "id": "15PSpqLGlB1H",
        "colab_type": "code",
        "colab": {}
      },
      "source": [
        "# show picture\n",
        "plt.imshow(trainX[220])\n",
        "plt.show()"
      ],
      "execution_count": null,
      "outputs": []
    },
    {
      "cell_type": "code",
      "metadata": {
        "id": "ab_TOrYaw7qE",
        "colab_type": "code",
        "colab": {}
      },
      "source": [
        "# show multiple pictures\n",
        "n_rows = 5\n",
        "n_cols = 10\n",
        "plt.figure(figsize=(n_cols*1.4, n_rows * 1.6))\n",
        "for row in range(n_rows):\n",
        "    for col in range(n_cols):\n",
        "        index = n_cols * row + col\n",
        "        plt.subplot(n_rows, n_cols, index + 1)\n",
        "        plt.imshow(trainX[index], cmap=\"binary\", interpolation=\"nearest\")\n",
        "        plt.axis('off')\n",
        "plt.show()"
      ],
      "execution_count": null,
      "outputs": []
    },
    {
      "cell_type": "markdown",
      "metadata": {
        "id": "jW0OOcNwMx1p",
        "colab_type": "text"
      },
      "source": [
        "## **III.VGG16**\n"
      ]
    },
    {
      "cell_type": "markdown",
      "metadata": {
        "id": "47FdINSpUo0h",
        "colab_type": "text"
      },
      "source": [
        "###**A. Transfer learning**"
      ]
    },
    {
      "cell_type": "code",
      "metadata": {
        "id": "KSrhNRAPhfGX",
        "colab_type": "code",
        "colab": {
          "base_uri": "https://localhost:8080/",
          "height": 799
        },
        "outputId": "cdf71898-409d-47d2-e007-6a0513f05c8a"
      },
      "source": [
        "# load model without output layer\n",
        "VGGmodel16 = VGG16(weights='imagenet',include_top=False, input_shape=(224, 224, 3))\n",
        "VGGmodel16.summary()\n",
        "#include_top = True : les dernières couches du CNN sont conservées. "
      ],
      "execution_count": null,
      "outputs": [
        {
          "output_type": "stream",
          "text": [
            "Model: \"vgg16\"\n",
            "_________________________________________________________________\n",
            "Layer (type)                 Output Shape              Param #   \n",
            "=================================================================\n",
            "input_2 (InputLayer)         [(None, 224, 224, 3)]     0         \n",
            "_________________________________________________________________\n",
            "block1_conv1 (Conv2D)        (None, 224, 224, 64)      1792      \n",
            "_________________________________________________________________\n",
            "block1_conv2 (Conv2D)        (None, 224, 224, 64)      36928     \n",
            "_________________________________________________________________\n",
            "block1_pool (MaxPooling2D)   (None, 112, 112, 64)      0         \n",
            "_________________________________________________________________\n",
            "block2_conv1 (Conv2D)        (None, 112, 112, 128)     73856     \n",
            "_________________________________________________________________\n",
            "block2_conv2 (Conv2D)        (None, 112, 112, 128)     147584    \n",
            "_________________________________________________________________\n",
            "block2_pool (MaxPooling2D)   (None, 56, 56, 128)       0         \n",
            "_________________________________________________________________\n",
            "block3_conv1 (Conv2D)        (None, 56, 56, 256)       295168    \n",
            "_________________________________________________________________\n",
            "block3_conv2 (Conv2D)        (None, 56, 56, 256)       590080    \n",
            "_________________________________________________________________\n",
            "block3_conv3 (Conv2D)        (None, 56, 56, 256)       590080    \n",
            "_________________________________________________________________\n",
            "block3_pool (MaxPooling2D)   (None, 28, 28, 256)       0         \n",
            "_________________________________________________________________\n",
            "block4_conv1 (Conv2D)        (None, 28, 28, 512)       1180160   \n",
            "_________________________________________________________________\n",
            "block4_conv2 (Conv2D)        (None, 28, 28, 512)       2359808   \n",
            "_________________________________________________________________\n",
            "block4_conv3 (Conv2D)        (None, 28, 28, 512)       2359808   \n",
            "_________________________________________________________________\n",
            "block4_pool (MaxPooling2D)   (None, 14, 14, 512)       0         \n",
            "_________________________________________________________________\n",
            "block5_conv1 (Conv2D)        (None, 14, 14, 512)       2359808   \n",
            "_________________________________________________________________\n",
            "block5_conv2 (Conv2D)        (None, 14, 14, 512)       2359808   \n",
            "_________________________________________________________________\n",
            "block5_conv3 (Conv2D)        (None, 14, 14, 512)       2359808   \n",
            "_________________________________________________________________\n",
            "block5_pool (MaxPooling2D)   (None, 7, 7, 512)         0         \n",
            "=================================================================\n",
            "Total params: 14,714,688\n",
            "Trainable params: 14,714,688\n",
            "Non-trainable params: 0\n",
            "_________________________________________________________________\n"
          ],
          "name": "stdout"
        }
      ]
    },
    {
      "cell_type": "code",
      "metadata": {
        "id": "KvhKg-qR2Jyo",
        "colab_type": "code",
        "colab": {
          "base_uri": "https://localhost:8080/",
          "height": 901
        },
        "outputId": "f52da079-6723-4e29-d712-e12b1daa85ac"
      },
      "source": [
        "# initialize the head model that will be placed on top of the base\n",
        "headModel = VGGmodel16.output\n",
        "headModel = Flatten()(headModel) \n",
        "# and add a fully-connected layer\n",
        "headModel = Dense(1024, activation='relu')(headModel)\n",
        "# finally, the softmax layer for predictions\n",
        "headModel = Dense(len(np.unique(labels)), activation='softmax')(headModel)\n",
        "\n",
        "# global network\n",
        "model16 = Model(inputs=VGGmodel16.input, outputs=headModel)\n",
        "model16.summary()"
      ],
      "execution_count": null,
      "outputs": [
        {
          "output_type": "stream",
          "text": [
            "Model: \"functional_3\"\n",
            "_________________________________________________________________\n",
            "Layer (type)                 Output Shape              Param #   \n",
            "=================================================================\n",
            "input_2 (InputLayer)         [(None, 224, 224, 3)]     0         \n",
            "_________________________________________________________________\n",
            "block1_conv1 (Conv2D)        (None, 224, 224, 64)      1792      \n",
            "_________________________________________________________________\n",
            "block1_conv2 (Conv2D)        (None, 224, 224, 64)      36928     \n",
            "_________________________________________________________________\n",
            "block1_pool (MaxPooling2D)   (None, 112, 112, 64)      0         \n",
            "_________________________________________________________________\n",
            "block2_conv1 (Conv2D)        (None, 112, 112, 128)     73856     \n",
            "_________________________________________________________________\n",
            "block2_conv2 (Conv2D)        (None, 112, 112, 128)     147584    \n",
            "_________________________________________________________________\n",
            "block2_pool (MaxPooling2D)   (None, 56, 56, 128)       0         \n",
            "_________________________________________________________________\n",
            "block3_conv1 (Conv2D)        (None, 56, 56, 256)       295168    \n",
            "_________________________________________________________________\n",
            "block3_conv2 (Conv2D)        (None, 56, 56, 256)       590080    \n",
            "_________________________________________________________________\n",
            "block3_conv3 (Conv2D)        (None, 56, 56, 256)       590080    \n",
            "_________________________________________________________________\n",
            "block3_pool (MaxPooling2D)   (None, 28, 28, 256)       0         \n",
            "_________________________________________________________________\n",
            "block4_conv1 (Conv2D)        (None, 28, 28, 512)       1180160   \n",
            "_________________________________________________________________\n",
            "block4_conv2 (Conv2D)        (None, 28, 28, 512)       2359808   \n",
            "_________________________________________________________________\n",
            "block4_conv3 (Conv2D)        (None, 28, 28, 512)       2359808   \n",
            "_________________________________________________________________\n",
            "block4_pool (MaxPooling2D)   (None, 14, 14, 512)       0         \n",
            "_________________________________________________________________\n",
            "block5_conv1 (Conv2D)        (None, 14, 14, 512)       2359808   \n",
            "_________________________________________________________________\n",
            "block5_conv2 (Conv2D)        (None, 14, 14, 512)       2359808   \n",
            "_________________________________________________________________\n",
            "block5_conv3 (Conv2D)        (None, 14, 14, 512)       2359808   \n",
            "_________________________________________________________________\n",
            "block5_pool (MaxPooling2D)   (None, 7, 7, 512)         0         \n",
            "_________________________________________________________________\n",
            "flatten_1 (Flatten)          (None, 25088)             0         \n",
            "_________________________________________________________________\n",
            "dense_2 (Dense)              (None, 1024)              25691136  \n",
            "_________________________________________________________________\n",
            "dense_3 (Dense)              (None, 15)                15375     \n",
            "=================================================================\n",
            "Total params: 40,421,199\n",
            "Trainable params: 40,421,199\n",
            "Non-trainable params: 0\n",
            "_________________________________________________________________\n"
          ],
          "name": "stdout"
        }
      ]
    },
    {
      "cell_type": "code",
      "metadata": {
        "id": "MYsgJM2owIZr",
        "colab_type": "code",
        "colab": {
          "base_uri": "https://localhost:8080/",
          "height": 51
        },
        "outputId": "65baeef6-d202-41d4-ddff-bdccb95d69f0"
      },
      "source": [
        "print(len(VGGmodel16.layers)) #19\n",
        "print(len(model16.layers)) #22"
      ],
      "execution_count": null,
      "outputs": [
        {
          "output_type": "stream",
          "text": [
            "19\n",
            "22\n"
          ],
          "name": "stdout"
        }
      ]
    },
    {
      "cell_type": "code",
      "metadata": {
        "id": "Oj-xn1skoEX5",
        "colab_type": "code",
        "colab": {}
      },
      "source": [
        "# train on last layers\n",
        "for layer in model16.layers[:19]:\n",
        "   layer.trainable = False\n",
        "for layer in model16.layers[19:]:\n",
        "   layer.trainable = True\n",
        "\n",
        "# Compile the model\n",
        "model16.compile(loss='categorical_crossentropy', optimizer=Adam(learning_rate=0.0001), metrics=[\"accuracy\"])"
      ],
      "execution_count": null,
      "outputs": []
    },
    {
      "cell_type": "markdown",
      "metadata": {
        "id": "RCRUSp50l2jQ",
        "colab_type": "text"
      },
      "source": [
        "###**B.Training/ Validation model**"
      ]
    },
    {
      "cell_type": "code",
      "metadata": {
        "id": "UbujLEZph9Wx",
        "colab_type": "code",
        "colab": {}
      },
      "source": [
        "# train the network\n",
        "#print(\"[INFO] training network...\")\n",
        "#H = model16.fit(trainX, trainY, validation_data=(valX,valY),epochs=10)"
      ],
      "execution_count": null,
      "outputs": []
    },
    {
      "cell_type": "code",
      "metadata": {
        "id": "3EC4MT056c4n",
        "colab_type": "code",
        "colab": {
          "base_uri": "https://localhost:8080/",
          "height": 377
        },
        "outputId": "090236c2-d2b2-441f-8d54-9953b150548b"
      },
      "source": [
        "# we define a callback function that will control if the accuracy \n",
        "# on the validation set (a part of train set) is not changing more than 10-4 with a patience of 20 iterations\n",
        "# If the last accuracy value is not the best one, we still keep the last results\n",
        "ourCallback = keras.callbacks.EarlyStopping(monitor='val_accuracy', patience=4, verbose=0, mode='auto', baseline=None, restore_best_weights=False)\n",
        "\n",
        "H2 = model16.fit(trainX, trainY, validation_data=(valX,valY),epochs=100, callbacks=[ourCallback])"
      ],
      "execution_count": null,
      "outputs": [
        {
          "output_type": "stream",
          "text": [
            "Epoch 1/100\n",
            "12/12 [==============================] - 195s 16s/step - loss: 1.1223 - accuracy: 0.6524 - val_loss: 0.4440 - val_accuracy: 0.8723\n",
            "Epoch 2/100\n",
            "12/12 [==============================] - 194s 16s/step - loss: 0.2213 - accuracy: 0.9198 - val_loss: 0.1419 - val_accuracy: 0.9574\n",
            "Epoch 3/100\n",
            "12/12 [==============================] - 194s 16s/step - loss: 0.1113 - accuracy: 0.9572 - val_loss: 0.0702 - val_accuracy: 0.9787\n",
            "Epoch 4/100\n",
            "12/12 [==============================] - 197s 16s/step - loss: 0.0572 - accuracy: 0.9840 - val_loss: 0.0503 - val_accuracy: 0.9787\n",
            "Epoch 5/100\n",
            "12/12 [==============================] - 196s 16s/step - loss: 0.0462 - accuracy: 0.9813 - val_loss: 0.0492 - val_accuracy: 0.9787\n",
            "Epoch 6/100\n",
            "12/12 [==============================] - 195s 16s/step - loss: 0.0389 - accuracy: 0.9813 - val_loss: 0.0228 - val_accuracy: 1.0000\n",
            "Epoch 7/100\n",
            "12/12 [==============================] - 193s 16s/step - loss: 0.0281 - accuracy: 1.0000 - val_loss: 0.0223 - val_accuracy: 1.0000\n",
            "Epoch 8/100\n",
            "12/12 [==============================] - 193s 16s/step - loss: 0.0255 - accuracy: 0.9973 - val_loss: 0.0220 - val_accuracy: 1.0000\n",
            "Epoch 9/100\n",
            "12/12 [==============================] - 195s 16s/step - loss: 0.0172 - accuracy: 1.0000 - val_loss: 0.0261 - val_accuracy: 1.0000\n",
            "Epoch 10/100\n",
            "12/12 [==============================] - 192s 16s/step - loss: 0.0153 - accuracy: 1.0000 - val_loss: 0.0158 - val_accuracy: 1.0000\n"
          ],
          "name": "stdout"
        }
      ]
    },
    {
      "cell_type": "markdown",
      "metadata": {
        "id": "GfTALuyeIuaa",
        "colab_type": "text"
      },
      "source": [
        "###**C. Evaluate model**"
      ]
    },
    {
      "cell_type": "markdown",
      "metadata": {
        "id": "6ss9fJD8Dp2a",
        "colab_type": "text"
      },
      "source": [
        "#### Loss function "
      ]
    },
    {
      "cell_type": "code",
      "metadata": {
        "id": "JTX1BtiKOHlO",
        "colab_type": "code",
        "colab": {
          "base_uri": "https://localhost:8080/",
          "height": 299
        },
        "outputId": "8562a05b-fe42-40ed-a89e-8bddc0152b45"
      },
      "source": [
        "# Loss function \n",
        "\n",
        "# plot the training + testing loss and accuracy\n",
        "plt.style.use(\"ggplot\")\n",
        "plt.figure()\n",
        "plt.plot(np.arange(0, 10), H2.history[\"loss\"], label=\"train_loss\")\n",
        "plt.plot(np.arange(0, 10), H2.history[\"val_loss\"], label=\"val_loss\")\n",
        "plt.plot(np.arange(0, 10), H2.history[\"accuracy\"], label=\"train_acc\")\n",
        "plt.plot(np.arange(0, 10), H2.history[\"val_accuracy\"], label=\"val_acc\")\n",
        "plt.title(\"Training Loss and Accuracy\")\n",
        "plt.xlabel(\"Epoch #\")\n",
        "plt.ylabel(\"Loss/Accuracy\")\n",
        "plt.legend()\n",
        "plt.show()"
      ],
      "execution_count": null,
      "outputs": [
        {
          "output_type": "display_data",
          "data": {
            "image/png": "[encoded data removed]",
            "text/plain": [
              "<Figure size 432x288 with 1 Axes>"
            ]
          },
          "metadata": {
            "tags": []
          }
        }
      ]
    },
    {
      "cell_type": "markdown",
      "metadata": {
        "id": "bm1WzR1XD0I7",
        "colab_type": "text"
      },
      "source": [
        "#### Classification report"
      ]
    },
    {
      "cell_type": "code",
      "metadata": {
        "id": "V51TQ6U0RgBW",
        "colab_type": "code",
        "colab": {
          "base_uri": "https://localhost:8080/",
          "height": 374
        },
        "outputId": "ad673d81-555c-4474-c32b-dbec164d31cd"
      },
      "source": [
        "names=le.classes_\n",
        "namesvalY=np.delete(names,[7,12])\n",
        "\n",
        "# evaluate the network\n",
        "print(\"[INFO] evaluating network...\")\n",
        "pred = model16.predict(valX)\n",
        "print(classification_report(valY.argmax(axis=1),pred.argmax(axis=1),target_names=namesvalY))"
      ],
      "execution_count": null,
      "outputs": [
        {
          "output_type": "stream",
          "text": [
            "[INFO] evaluating network...\n",
            "               precision    recall  f1-score   support\n",
            "\n",
            "        biche       1.00      1.00      1.00         1\n",
            "     blaireau       1.00      1.00      1.00         3\n",
            "    bouquetin       1.00      1.00      1.00         2\n",
            "         cerf       1.00      1.00      1.00         1\n",
            "      chamois       1.00      1.00      1.00         4\n",
            "    chevreuil       1.00      1.00      1.00        14\n",
            "        chien       1.00      1.00      1.00         1\n",
            "       humain       1.00      1.00      1.00         3\n",
            "       lievre       1.00      1.00      1.00         2\n",
            "lievre_europe       1.00      1.00      1.00         1\n",
            "         loup       1.00      1.00      1.00         4\n",
            "       renard       1.00      1.00      1.00         9\n",
            "     sanglier       1.00      1.00      1.00         2\n",
            "\n",
            "     accuracy                           1.00        47\n",
            "    macro avg       1.00      1.00      1.00        47\n",
            " weighted avg       1.00      1.00      1.00        47\n",
            "\n"
          ],
          "name": "stdout"
        }
      ]
    },
    {
      "cell_type": "markdown",
      "metadata": {
        "id": "qxdSSo8tD412",
        "colab_type": "text"
      },
      "source": [
        "#### Confusion matrix"
      ]
    },
    {
      "cell_type": "code",
      "metadata": {
        "id": "tHvqCyZaZiUF",
        "colab_type": "code",
        "colab": {
          "base_uri": "https://localhost:8080/",
          "height": 238
        },
        "outputId": "a770eb82-50f5-4af1-e281-cd8d8ca67fd8"
      },
      "source": [
        "CM = confusion_matrix(valY.argmax(axis=1),pred.argmax(axis=1))\n",
        "print(CM)"
      ],
      "execution_count": null,
      "outputs": [
        {
          "output_type": "stream",
          "text": [
            "[[ 1  0  0  0  0  0  0  0  0  0  0  0  0]\n",
            " [ 0  3  0  0  0  0  0  0  0  0  0  0  0]\n",
            " [ 0  0  2  0  0  0  0  0  0  0  0  0  0]\n",
            " [ 0  0  0  1  0  0  0  0  0  0  0  0  0]\n",
            " [ 0  0  0  0  4  0  0  0  0  0  0  0  0]\n",
            " [ 0  0  0  0  0 14  0  0  0  0  0  0  0]\n",
            " [ 0  0  0  0  0  0  1  0  0  0  0  0  0]\n",
            " [ 0  0  0  0  0  0  0  3  0  0  0  0  0]\n",
            " [ 0  0  0  0  0  0  0  0  2  0  0  0  0]\n",
            " [ 0  0  0  0  0  0  0  0  0  1  0  0  0]\n",
            " [ 0  0  0  0  0  0  0  0  0  0  4  0  0]\n",
            " [ 0  0  0  0  0  0  0  0  0  0  0  9  0]\n",
            " [ 0  0  0  0  0  0  0  0  0  0  0  0  2]]\n"
          ],
          "name": "stdout"
        }
      ]
    },
    {
      "cell_type": "code",
      "metadata": {
        "id": "MKDB5ssbFXat",
        "colab_type": "code",
        "colab": {
          "base_uri": "https://localhost:8080/",
          "height": 507
        },
        "outputId": "5ffa406d-c818-40e4-dac0-76df0742b13a"
      },
      "source": [
        "#nicer display:\n",
        "cm = pd.DataFrame(CM, index = [i for i in namesvalY],\n",
        "                  columns = [i for i in namesvalY])\n",
        "plt.figure(figsize = (10,7))\n",
        "sn.heatmap(cm, annot=True)"
      ],
      "execution_count": null,
      "outputs": [
        {
          "output_type": "execute_result",
          "data": {
            "text/plain": [
              "<matplotlib.axes._subplots.AxesSubplot at 0x7fb6999be6a0>"
            ]
          },
          "metadata": {
            "tags": []
          },
          "execution_count": 37
        },
        {
          "output_type": "display_data",
          "data": {
            "image/png": "[encoded data removed]",
            "text/plain": [
              "<Figure size 720x504 with 2 Axes>"
            ]
          },
          "metadata": {
            "tags": []
          }
        }
      ]
    },
    {
      "cell_type": "markdown",
      "metadata": {
        "id": "wWgLqaYWEKOj",
        "colab_type": "text"
      },
      "source": [
        "#### Evaluate on test data"
      ]
    },
    {
      "cell_type": "code",
      "metadata": {
        "id": "NUAj1MAs4bnt",
        "colab_type": "code",
        "colab": {
          "base_uri": "https://localhost:8080/",
          "height": 51
        },
        "outputId": "eb5184b4-a724-4cbd-80ad-1a65beff545a"
      },
      "source": [
        "score = model16.evaluate(testX,testY)\n",
        "print(\"%s: %.2f%%\" % (model16.metrics_names[1], score[1]*100))"
      ],
      "execution_count": null,
      "outputs": [
        {
          "output_type": "stream",
          "text": [
            "2/2 [==============================] - 7s 4s/step - loss: 0.0174 - accuracy: 1.0000\n",
            "accuracy: 100.00%\n"
          ],
          "name": "stdout"
        }
      ]
    },
    {
      "cell_type": "code",
      "metadata": {
        "id": "cv5Ea4_w6Mup",
        "colab_type": "code",
        "colab": {
          "base_uri": "https://localhost:8080/",
          "height": 51
        },
        "outputId": "1efc34a5-7330-484e-8ba4-e878087b850b"
      },
      "source": [
        "predictions = model16.predict(testX)\n",
        "predictions_prob = np.argmax(predictions, axis = 1)\n",
        "predictions_names = names[predictions_prob]\n",
        "print(predictions_names[:10])"
      ],
      "execution_count": null,
      "outputs": [
        {
          "output_type": "stream",
          "text": [
            "['martre' 'bouquetin' 'biche' 'chevreuil' 'bouquetin' 'lievre' 'renard'\n",
            " 'sanglier' 'humain' 'lievre']\n"
          ],
          "name": "stdout"
        }
      ]
    },
    {
      "cell_type": "code",
      "metadata": {
        "id": "CtFHLN0e_out",
        "colab_type": "code",
        "colab": {
          "base_uri": "https://localhost:8080/",
          "height": 97
        },
        "outputId": "d3d5a7f7-0860-4d2a-e415-baf182de7c1d"
      },
      "source": [
        "# show multiple pictures\n",
        "n_rows = 1\n",
        "n_cols = 10\n",
        "plt.figure(figsize=(n_cols*1.4, n_rows * 1.6))\n",
        "for row in range(n_rows):\n",
        "    for col in range(n_cols):\n",
        "        index = n_cols * row + col\n",
        "        plt.subplot(n_rows, n_cols, index + 1)\n",
        "        plt.imshow(testX[index], cmap=\"binary\", interpolation=\"nearest\")\n",
        "        plt.axis('off')\n",
        "plt.show()"
      ],
      "execution_count": null,
      "outputs": [
        {
          "output_type": "display_data",
          "data": {
            "image/png": "[encoded data removed]",
            "text/plain": [
              "<Figure size 1008x115.2 with 10 Axes>"
            ]
          },
          "metadata": {
            "tags": []
          }
        }
      ]
    },
    {
      "cell_type": "markdown",
      "metadata": {
        "id": "wbQU14q_zaqE",
        "colab_type": "text"
      },
      "source": [
        "# IV. VGG19"
      ]
    },
    {
      "cell_type": "markdown",
      "metadata": {
        "id": "DilSbkAQsFil",
        "colab_type": "text"
      },
      "source": [
        "###**A. Transfer learning**"
      ]
    },
    {
      "cell_type": "code",
      "metadata": {
        "id": "pMxG0yk3sTjq",
        "colab_type": "code",
        "colab": {
          "base_uri": "https://localhost:8080/",
          "height": 955
        },
        "outputId": "97b09c5b-4cfb-4a42-8ac2-7a119347d00a"
      },
      "source": [
        "# load model without output layer\n",
        "VGGmodel19 = VGG19(weights='imagenet',include_top=False, input_shape=(224, 224, 3))\n",
        "VGGmodel19.summary()\n",
        "#include_top = True : les dernières couches du CNN sont conservées. "
      ],
      "execution_count": null,
      "outputs": [
        {
          "output_type": "stream",
          "text": [
            "Downloading data from https://storage.googleapis.com/tensorflow/keras-applications/vgg19/vgg19_weights_tf_dim_ordering_tf_kernels_notop.h5\n",
            "80142336/80134624 [==============================] - 1s 0us/step\n",
            "Model: \"vgg19\"\n",
            "_________________________________________________________________\n",
            "Layer (type)                 Output Shape              Param #   \n",
            "=================================================================\n",
            "input_3 (InputLayer)         [(None, 224, 224, 3)]     0         \n",
            "_________________________________________________________________\n",
            "block1_conv1 (Conv2D)        (None, 224, 224, 64)      1792      \n",
            "_________________________________________________________________\n",
            "block1_conv2 (Conv2D)        (None, 224, 224, 64)      36928     \n",
            "_________________________________________________________________\n",
            "block1_pool (MaxPooling2D)   (None, 112, 112, 64)      0         \n",
            "_________________________________________________________________\n",
            "block2_conv1 (Conv2D)        (None, 112, 112, 128)     73856     \n",
            "_________________________________________________________________\n",
            "block2_conv2 (Conv2D)        (None, 112, 112, 128)     147584    \n",
            "_________________________________________________________________\n",
            "block2_pool (MaxPooling2D)   (None, 56, 56, 128)       0         \n",
            "_________________________________________________________________\n",
            "block3_conv1 (Conv2D)        (None, 56, 56, 256)       295168    \n",
            "_________________________________________________________________\n",
            "block3_conv2 (Conv2D)        (None, 56, 56, 256)       590080    \n",
            "_________________________________________________________________\n",
            "block3_conv3 (Conv2D)        (None, 56, 56, 256)       590080    \n",
            "_________________________________________________________________\n",
            "block3_conv4 (Conv2D)        (None, 56, 56, 256)       590080    \n",
            "_________________________________________________________________\n",
            "block3_pool (MaxPooling2D)   (None, 28, 28, 256)       0         \n",
            "_________________________________________________________________\n",
            "block4_conv1 (Conv2D)        (None, 28, 28, 512)       1180160   \n",
            "_________________________________________________________________\n",
            "block4_conv2 (Conv2D)        (None, 28, 28, 512)       2359808   \n",
            "_________________________________________________________________\n",
            "block4_conv3 (Conv2D)        (None, 28, 28, 512)       2359808   \n",
            "_________________________________________________________________\n",
            "block4_conv4 (Conv2D)        (None, 28, 28, 512)       2359808   \n",
            "_________________________________________________________________\n",
            "block4_pool (MaxPooling2D)   (None, 14, 14, 512)       0         \n",
            "_________________________________________________________________\n",
            "block5_conv1 (Conv2D)        (None, 14, 14, 512)       2359808   \n",
            "_________________________________________________________________\n",
            "block5_conv2 (Conv2D)        (None, 14, 14, 512)       2359808   \n",
            "_________________________________________________________________\n",
            "block5_conv3 (Conv2D)        (None, 14, 14, 512)       2359808   \n",
            "_________________________________________________________________\n",
            "block5_conv4 (Conv2D)        (None, 14, 14, 512)       2359808   \n",
            "_________________________________________________________________\n",
            "block5_pool (MaxPooling2D)   (None, 7, 7, 512)         0         \n",
            "=================================================================\n",
            "Total params: 20,024,384\n",
            "Trainable params: 20,024,384\n",
            "Non-trainable params: 0\n",
            "_________________________________________________________________\n"
          ],
          "name": "stdout"
        }
      ]
    },
    {
      "cell_type": "code",
      "metadata": {
        "id": "LLNlzPWkspEl",
        "colab_type": "code",
        "colab": {
          "base_uri": "https://localhost:8080/",
          "height": 1000
        },
        "outputId": "5f447e7e-b4cc-4726-ff54-51946d41761e"
      },
      "source": [
        "# initialize the head model that will be placed on top of the base\n",
        "headModel = VGGmodel19.output\n",
        "headModel = Flatten()(headModel) \n",
        "# and add a fully-connected layer\n",
        "headModel = Dense(1024, activation='relu')(headModel)\n",
        "# finally, the softmax layer for predictions\n",
        "headModel = Dense(len(np.unique(labels)), activation='softmax')(headModel)\n",
        "\n",
        "# global network\n",
        "model19 = Model(inputs=VGGmodel19.input, outputs=headModel)\n",
        "model19.summary()"
      ],
      "execution_count": null,
      "outputs": [
        {
          "output_type": "stream",
          "text": [
            "Model: \"functional_5\"\n",
            "_________________________________________________________________\n",
            "Layer (type)                 Output Shape              Param #   \n",
            "=================================================================\n",
            "input_3 (InputLayer)         [(None, 224, 224, 3)]     0         \n",
            "_________________________________________________________________\n",
            "block1_conv1 (Conv2D)        (None, 224, 224, 64)      1792      \n",
            "_________________________________________________________________\n",
            "block1_conv2 (Conv2D)        (None, 224, 224, 64)      36928     \n",
            "_________________________________________________________________\n",
            "block1_pool (MaxPooling2D)   (None, 112, 112, 64)      0         \n",
            "_________________________________________________________________\n",
            "block2_conv1 (Conv2D)        (None, 112, 112, 128)     73856     \n",
            "_________________________________________________________________\n",
            "block2_conv2 (Conv2D)        (None, 112, 112, 128)     147584    \n",
            "_________________________________________________________________\n",
            "block2_pool (MaxPooling2D)   (None, 56, 56, 128)       0         \n",
            "_________________________________________________________________\n",
            "block3_conv1 (Conv2D)        (None, 56, 56, 256)       295168    \n",
            "_________________________________________________________________\n",
            "block3_conv2 (Conv2D)        (None, 56, 56, 256)       590080    \n",
            "_________________________________________________________________\n",
            "block3_conv3 (Conv2D)        (None, 56, 56, 256)       590080    \n",
            "_________________________________________________________________\n",
            "block3_conv4 (Conv2D)        (None, 56, 56, 256)       590080    \n",
            "_________________________________________________________________\n",
            "block3_pool (MaxPooling2D)   (None, 28, 28, 256)       0         \n",
            "_________________________________________________________________\n",
            "block4_conv1 (Conv2D)        (None, 28, 28, 512)       1180160   \n",
            "_________________________________________________________________\n",
            "block4_conv2 (Conv2D)        (None, 28, 28, 512)       2359808   \n",
            "_________________________________________________________________\n",
            "block4_conv3 (Conv2D)        (None, 28, 28, 512)       2359808   \n",
            "_________________________________________________________________\n",
            "block4_conv4 (Conv2D)        (None, 28, 28, 512)       2359808   \n",
            "_________________________________________________________________\n",
            "block4_pool (MaxPooling2D)   (None, 14, 14, 512)       0         \n",
            "_________________________________________________________________\n",
            "block5_conv1 (Conv2D)        (None, 14, 14, 512)       2359808   \n",
            "_________________________________________________________________\n",
            "block5_conv2 (Conv2D)        (None, 14, 14, 512)       2359808   \n",
            "_________________________________________________________________\n",
            "block5_conv3 (Conv2D)        (None, 14, 14, 512)       2359808   \n",
            "_________________________________________________________________\n",
            "block5_conv4 (Conv2D)        (None, 14, 14, 512)       2359808   \n",
            "_________________________________________________________________\n",
            "block5_pool (MaxPooling2D)   (None, 7, 7, 512)         0         \n",
            "_________________________________________________________________\n",
            "flatten_2 (Flatten)          (None, 25088)             0         \n",
            "_________________________________________________________________\n",
            "dense_4 (Dense)              (None, 1024)              25691136  \n",
            "_________________________________________________________________\n",
            "dense_5 (Dense)              (None, 15)                15375     \n",
            "=================================================================\n",
            "Total params: 45,730,895\n",
            "Trainable params: 45,730,895\n",
            "Non-trainable params: 0\n",
            "_________________________________________________________________\n"
          ],
          "name": "stdout"
        }
      ]
    },
    {
      "cell_type": "code",
      "metadata": {
        "id": "1Q9D4ulKtFJc",
        "colab_type": "code",
        "colab": {
          "base_uri": "https://localhost:8080/",
          "height": 51
        },
        "outputId": "1e78e19a-f221-41a1-f721-82cf819bccd5"
      },
      "source": [
        "print(len(VGGmodel19.layers)) #22\n",
        "print(len(model19.layers)) #25"
      ],
      "execution_count": null,
      "outputs": [
        {
          "output_type": "stream",
          "text": [
            "22\n",
            "25\n"
          ],
          "name": "stdout"
        }
      ]
    },
    {
      "cell_type": "code",
      "metadata": {
        "id": "hV84fWbjtPem",
        "colab_type": "code",
        "colab": {}
      },
      "source": [
        "# train on last layers\n",
        "for layer in model19.layers[:22]:\n",
        "   layer.trainable = False\n",
        "for layer in model19.layers[22:]:\n",
        "   layer.trainable = True\n",
        "\n",
        "# Compile the model\n",
        "model19.compile(loss='categorical_crossentropy', optimizer=Adam(learning_rate=0.0001), metrics=[\"accuracy\"])"
      ],
      "execution_count": null,
      "outputs": []
    },
    {
      "cell_type": "markdown",
      "metadata": {
        "id": "_yIl-DpytaZz",
        "colab_type": "text"
      },
      "source": [
        "### **B.Training/Validation model**"
      ]
    },
    {
      "cell_type": "code",
      "metadata": {
        "id": "eMJ43jm_tZQj",
        "colab_type": "code",
        "colab": {}
      },
      "source": [
        "# train the network\n",
        "#print(\"[INFO] training network...\")\n",
        "#H5 = model19.fit(trainX, trainY, validation_data=(valX,valY),epochs=10)"
      ],
      "execution_count": null,
      "outputs": []
    },
    {
      "cell_type": "code",
      "metadata": {
        "id": "YK9HdKFbtZ6l",
        "colab_type": "code",
        "colab": {
          "base_uri": "https://localhost:8080/",
          "height": 377
        },
        "outputId": "621f0f43-83b4-4de0-c125-01394290477e"
      },
      "source": [
        "# we define a callback function that will control if the accuracy \n",
        "# on the validation set (a part of train set) is not changing more than 10-4 with a patience of 20 iterations\n",
        "# If the last accuracy value is not the best one, we still keep the last results\n",
        "ourCallback = keras.callbacks.EarlyStopping(monitor='val_accuracy', patience=4, verbose=0, mode='auto', baseline=None, restore_best_weights=False)\n",
        "\n",
        "H6 = model19.fit(trainX, trainY, validation_data=(valX,valY),epochs=100, callbacks=[ourCallback])"
      ],
      "execution_count": null,
      "outputs": [
        {
          "output_type": "stream",
          "text": [
            "Epoch 1/100\n",
            "12/12 [==============================] - 243s 20s/step - loss: 1.1492 - accuracy: 0.6631 - val_loss: 0.4769 - val_accuracy: 0.8298\n",
            "Epoch 2/100\n",
            "12/12 [==============================] - 241s 20s/step - loss: 0.2672 - accuracy: 0.9064 - val_loss: 0.1846 - val_accuracy: 0.9149\n",
            "Epoch 3/100\n",
            "12/12 [==============================] - 242s 20s/step - loss: 0.2345 - accuracy: 0.9225 - val_loss: 0.1394 - val_accuracy: 0.9787\n",
            "Epoch 4/100\n",
            "12/12 [==============================] - 241s 20s/step - loss: 0.1296 - accuracy: 0.9599 - val_loss: 0.3105 - val_accuracy: 0.9362\n",
            "Epoch 5/100\n",
            "12/12 [==============================] - 241s 20s/step - loss: 0.1120 - accuracy: 0.9572 - val_loss: 0.1519 - val_accuracy: 0.9574\n",
            "Epoch 6/100\n",
            "12/12 [==============================] - 241s 20s/step - loss: 0.0547 - accuracy: 0.9786 - val_loss: 0.0299 - val_accuracy: 1.0000\n",
            "Epoch 7/100\n",
            "12/12 [==============================] - 241s 20s/step - loss: 0.0606 - accuracy: 0.9759 - val_loss: 0.0706 - val_accuracy: 0.9787\n",
            "Epoch 8/100\n",
            "12/12 [==============================] - 242s 20s/step - loss: 0.0339 - accuracy: 0.9866 - val_loss: 0.0539 - val_accuracy: 0.9787\n",
            "Epoch 9/100\n",
            "12/12 [==============================] - 241s 20s/step - loss: 0.0348 - accuracy: 0.9920 - val_loss: 0.0427 - val_accuracy: 0.9787\n",
            "Epoch 10/100\n",
            "12/12 [==============================] - 242s 20s/step - loss: 0.0327 - accuracy: 0.9893 - val_loss: 0.0474 - val_accuracy: 0.9787\n"
          ],
          "name": "stdout"
        }
      ]
    },
    {
      "cell_type": "markdown",
      "metadata": {
        "id": "wq5OQbYqt2nL",
        "colab_type": "text"
      },
      "source": [
        "###**C.Evaluate model**"
      ]
    },
    {
      "cell_type": "markdown",
      "metadata": {
        "id": "XuRRIpN3EXNz",
        "colab_type": "text"
      },
      "source": [
        "#### Loss function"
      ]
    },
    {
      "cell_type": "code",
      "metadata": {
        "id": "4pK32Bm6m_Po",
        "colab_type": "code",
        "colab": {
          "base_uri": "https://localhost:8080/",
          "height": 299
        },
        "outputId": "57ea4192-4327-4cbc-ec68-ec7b37f3e27f"
      },
      "source": [
        "# plot the training + testing loss and accuracy\n",
        "plt.style.use(\"ggplot\")\n",
        "plt.figure()\n",
        "plt.plot(np.arange(0, 10), H6.history[\"loss\"], label=\"train_loss\")\n",
        "plt.plot(np.arange(0, 10), H6.history[\"val_loss\"], label=\"val_loss\")\n",
        "plt.plot(np.arange(0, 10), H6.history[\"accuracy\"], label=\"train_acc\")\n",
        "plt.plot(np.arange(0, 10), H6.history[\"val_accuracy\"], label=\"val_acc\")\n",
        "plt.title(\"Training Loss and Accuracy\")\n",
        "plt.xlabel(\"Epoch #\")\n",
        "plt.ylabel(\"Loss/Accuracy\")\n",
        "plt.legend()\n",
        "plt.show()"
      ],
      "execution_count": null,
      "outputs": [
        {
          "output_type": "display_data",
          "data": {
            "image/png": "[encoded data removed]",
            "text/plain": [
              "<Figure size 432x288 with 1 Axes>"
            ]
          },
          "metadata": {
            "tags": []
          }
        }
      ]
    },
    {
      "cell_type": "markdown",
      "metadata": {
        "id": "z_9EZWAVEapM",
        "colab_type": "text"
      },
      "source": [
        "#### Classification report"
      ]
    },
    {
      "cell_type": "code",
      "metadata": {
        "id": "4MwSWCXRnYXV",
        "colab_type": "code",
        "colab": {
          "base_uri": "https://localhost:8080/",
          "height": 428
        },
        "outputId": "7975b719-a301-4d70-e1a5-f900db18915b"
      },
      "source": [
        "names=le.classes_\n",
        "namesvalY=np.delete(names,[7,12])\n",
        "\n",
        "# evaluate the network\n",
        "print(\"[INFO] evaluating network...\")\n",
        "pred = model19.predict(valX)\n",
        "print(classification_report(valY.argmax(axis=1),pred.argmax(axis=1),target_names=namesvalY))"
      ],
      "execution_count": null,
      "outputs": [
        {
          "output_type": "stream",
          "text": [
            "[INFO] evaluating network...\n",
            "               precision    recall  f1-score   support\n",
            "\n",
            "        biche       1.00      1.00      1.00         1\n",
            "     blaireau       1.00      1.00      1.00         3\n",
            "    bouquetin       1.00      1.00      1.00         2\n",
            "         cerf       1.00      1.00      1.00         1\n",
            "      chamois       1.00      1.00      1.00         4\n",
            "    chevreuil       1.00      1.00      1.00        14\n",
            "        chien       1.00      1.00      1.00         1\n",
            "       humain       1.00      1.00      1.00         3\n",
            "       lievre       1.00      1.00      1.00         2\n",
            "lievre_europe       0.00      0.00      0.00         1\n",
            "         loup       0.80      1.00      0.89         4\n",
            "       renard       1.00      1.00      1.00         9\n",
            "     sanglier       1.00      1.00      1.00         2\n",
            "\n",
            "     accuracy                           0.98        47\n",
            "    macro avg       0.91      0.92      0.91        47\n",
            " weighted avg       0.96      0.98      0.97        47\n",
            "\n"
          ],
          "name": "stdout"
        },
        {
          "output_type": "stream",
          "text": [
            "/usr/local/lib/python3.6/dist-packages/sklearn/metrics/_classification.py:1272: UndefinedMetricWarning: Precision and F-score are ill-defined and being set to 0.0 in labels with no predicted samples. Use `zero_division` parameter to control this behavior.\n",
            "  _warn_prf(average, modifier, msg_start, len(result))\n"
          ],
          "name": "stderr"
        }
      ]
    },
    {
      "cell_type": "markdown",
      "metadata": {
        "id": "Vyq8IxOiEfJx",
        "colab_type": "text"
      },
      "source": [
        "#### Confusion matrix"
      ]
    },
    {
      "cell_type": "code",
      "metadata": {
        "id": "CRqa1_wEnX_3",
        "colab_type": "code",
        "colab": {
          "base_uri": "https://localhost:8080/",
          "height": 238
        },
        "outputId": "3c54d658-0640-4259-d9bb-9d626da317e3"
      },
      "source": [
        "CM = confusion_matrix(valY.argmax(axis=1),pred.argmax(axis=1))\n",
        "print(CM)"
      ],
      "execution_count": null,
      "outputs": [
        {
          "output_type": "stream",
          "text": [
            "[[ 1  0  0  0  0  0  0  0  0  0  0  0  0]\n",
            " [ 0  3  0  0  0  0  0  0  0  0  0  0  0]\n",
            " [ 0  0  2  0  0  0  0  0  0  0  0  0  0]\n",
            " [ 0  0  0  1  0  0  0  0  0  0  0  0  0]\n",
            " [ 0  0  0  0  4  0  0  0  0  0  0  0  0]\n",
            " [ 0  0  0  0  0 14  0  0  0  0  0  0  0]\n",
            " [ 0  0  0  0  0  0  1  0  0  0  0  0  0]\n",
            " [ 0  0  0  0  0  0  0  3  0  0  0  0  0]\n",
            " [ 0  0  0  0  0  0  0  0  2  0  0  0  0]\n",
            " [ 0  0  0  0  0  0  0  0  0  0  1  0  0]\n",
            " [ 0  0  0  0  0  0  0  0  0  0  4  0  0]\n",
            " [ 0  0  0  0  0  0  0  0  0  0  0  9  0]\n",
            " [ 0  0  0  0  0  0  0  0  0  0  0  0  2]]\n"
          ],
          "name": "stdout"
        }
      ]
    },
    {
      "cell_type": "code",
      "metadata": {
        "id": "ldsRGXw8nX0b",
        "colab_type": "code",
        "colab": {
          "base_uri": "https://localhost:8080/",
          "height": 507
        },
        "outputId": "66ab0708-a5ac-419a-b946-c671029d9083"
      },
      "source": [
        "#nicer display:\n",
        "cm = pd.DataFrame(CM, index = [i for i in namesvalY],\n",
        "                  columns = [i for i in namesvalY])\n",
        "plt.figure(figsize = (10,7))\n",
        "sn.heatmap(cm, annot=True)"
      ],
      "execution_count": null,
      "outputs": [
        {
          "output_type": "execute_result",
          "data": {
            "text/plain": [
              "<matplotlib.axes._subplots.AxesSubplot at 0x7fb6999be2b0>"
            ]
          },
          "metadata": {
            "tags": []
          },
          "execution_count": 50
        },
        {
          "output_type": "display_data",
          "data": {
            "image/png": "[encoded data removed]",
            "text/plain": [
              "<Figure size 720x504 with 2 Axes>"
            ]
          },
          "metadata": {
            "tags": []
          }
        }
      ]
    },
    {
      "cell_type": "markdown",
      "metadata": {
        "id": "j0I0gAH6Eshe",
        "colab_type": "text"
      },
      "source": [
        "#### Evaluate on test data"
      ]
    },
    {
      "cell_type": "code",
      "metadata": {
        "id": "h4YdUzZJ_M6L",
        "colab_type": "code",
        "colab": {
          "base_uri": "https://localhost:8080/",
          "height": 51
        },
        "outputId": "13a684e1-d5a1-49b5-fad4-af860d0c795f"
      },
      "source": [
        "score = model19.evaluate(testX,testY)\n",
        "print(\"%s: %.2f%%\" % (model19.metrics_names[1], score[1]*100))"
      ],
      "execution_count": null,
      "outputs": [
        {
          "output_type": "stream",
          "text": [
            "2/2 [==============================] - 10s 5s/step - loss: 0.0349 - accuracy: 0.9787\n",
            "accuracy: 97.87%\n"
          ],
          "name": "stdout"
        }
      ]
    },
    {
      "cell_type": "markdown",
      "metadata": {
        "id": "37QOKQx78PfS",
        "colab_type": "text"
      },
      "source": [
        "# V. Repeat VGG16 X20"
      ]
    },
    {
      "cell_type": "code",
      "metadata": {
        "id": "Nc0cuLFo8yLS",
        "colab_type": "code",
        "colab": {
          "base_uri": "https://localhost:8080/",
          "height": 1000
        },
        "outputId": "7d3323ee-902c-4b38-8b9d-b152489d3f9c"
      },
      "source": [
        "my_dict = {}\n",
        "score_eval = {}\n",
        "\n",
        "for i in range(1,21):\n",
        "  \n",
        "   # TRAINING/ VALIDATION/ TESTING\n",
        "\n",
        "  # train 80% / validation 10% /test 10%\n",
        "  # X images and Y labels\n",
        "  # total =468\n",
        "\n",
        "  # Train + Validation (trainfull) 90% and Testing 10%\n",
        "  (trainfullX, testX, trainfullY, testY) = train_test_split(data, labels,test_size=0.1)\n",
        "\n",
        "  # Train 80% de 468 + Validation 10% de 468\n",
        "  (trainX,valX,trainY,valY) = train_test_split(trainfullX,trainfullY,test_size=0.11)\n",
        "\n",
        "  # convert the labels from integers to vectors\n",
        "  le = LabelEncoder().fit(trainY)\n",
        "  trainY = np_utils.to_categorical(le.transform(trainY),15)\n",
        "  valY = np_utils.to_categorical(le.transform(valY),15)\n",
        "  testY = np_utils.to_categorical(le.transform(testY),15)\n",
        "\n",
        "  # RUN MODEL\n",
        "\n",
        "  # load model without output layer\n",
        "  VGGmodel16 = VGG16(weights='imagenet',include_top=False, input_shape=(224, 224, 3))\n",
        "  #include_top = True : les dernières couches du CNN sont conservées. \n",
        "\n",
        "  # initialize the head model that will be placed on top of the base\n",
        "  headModel = VGGmodel16.output\n",
        "  headModel = Flatten()(headModel) \n",
        "  # and add a fully-connected layer\n",
        "  headModel = Dense(1024, activation='relu')(headModel)\n",
        "  # finally, the softmax layer for predictions\n",
        "  headModel = Dense(len(np.unique(labels)), activation='softmax')(headModel)\n",
        "\n",
        "  # global network\n",
        "  model16 = Model(inputs=VGGmodel16.input, outputs=headModel)\n",
        "\n",
        "  # train on last layers\n",
        "  for layer in model16.layers[:19]:\n",
        "    layer.trainable = False\n",
        "  for layer in model16.layers[19:]:\n",
        "    layer.trainable = True\n",
        "\n",
        "  # Compile the model\n",
        "  model16.compile(loss='categorical_crossentropy', optimizer=Adam(learning_rate=0.0001), metrics=[\"accuracy\"])\n",
        "\n",
        "  # we define a callback function that will control if the accuracy \n",
        "  # on the validation set (a part of train set) is not changing more than 10-4 with a patience of 20 iterations\n",
        "  # If the last accuracy value is not the best one, we still keep the last results\n",
        "  ourCallback = keras.callbacks.EarlyStopping(monitor='val_accuracy', patience=4, verbose=0, mode='auto', baseline=None, restore_best_weights=False)\n",
        "\n",
        "  H = model16.fit(trainX, trainY, validation_data=(valX,valY),epochs=100, callbacks=[ourCallback])\n",
        "  \n",
        "  my_dict[\"H\"+str(i)] = H\n",
        "\n",
        "  score = model16.evaluate(testX,testY)\n",
        "\n",
        "  score_eval[\"score\"+str(i)] = score"
      ],
      "execution_count": null,
      "outputs": [
        {
          "output_type": "stream",
          "text": [
            "Downloading data from https://storage.googleapis.com/tensorflow/keras-applications/vgg16/vgg16_weights_tf_dim_ordering_tf_kernels_notop.h5\n",
            "58892288/58889256 [==============================] - 1s 0us/step\n",
            "Epoch 1/100\n",
            "12/12 [==============================] - 7s 586ms/step - loss: 1.0090 - accuracy: 0.7246 - val_loss: 0.3045 - val_accuracy: 0.9362\n",
            "Epoch 2/100\n",
            "12/12 [==============================] - 3s 245ms/step - loss: 0.2148 - accuracy: 0.9225 - val_loss: 0.1201 - val_accuracy: 0.9362\n",
            "Epoch 3/100\n",
            "12/12 [==============================] - 3s 244ms/step - loss: 0.1392 - accuracy: 0.9439 - val_loss: 0.0778 - val_accuracy: 0.9574\n",
            "Epoch 4/100\n",
            "12/12 [==============================] - 3s 246ms/step - loss: 0.0668 - accuracy: 0.9706 - val_loss: 0.1065 - val_accuracy: 0.9362\n",
            "Epoch 5/100\n",
            "12/12 [==============================] - 3s 246ms/step - loss: 0.0346 - accuracy: 0.9947 - val_loss: 0.0398 - val_accuracy: 1.0000\n",
            "Epoch 6/100\n",
            "12/12 [==============================] - 3s 245ms/step - loss: 0.0240 - accuracy: 1.0000 - val_loss: 0.0455 - val_accuracy: 0.9787\n",
            "Epoch 7/100\n",
            "12/12 [==============================] - 3s 245ms/step - loss: 0.0230 - accuracy: 0.9920 - val_loss: 0.0667 - val_accuracy: 0.9787\n",
            "Epoch 8/100\n",
            "12/12 [==============================] - 3s 246ms/step - loss: 0.0177 - accuracy: 1.0000 - val_loss: 0.0332 - val_accuracy: 1.0000\n",
            "Epoch 9/100\n",
            "12/12 [==============================] - 3s 247ms/step - loss: 0.0137 - accuracy: 1.0000 - val_loss: 0.0363 - val_accuracy: 0.9787\n",
            "2/2 [==============================] - 0s 62ms/step - loss: 0.0938 - accuracy: 0.9787\n",
            "Epoch 1/100\n",
            "12/12 [==============================] - 3s 264ms/step - loss: 1.1667 - accuracy: 0.6578 - val_loss: 0.4004 - val_accuracy: 0.8085\n",
            "Epoch 2/100\n",
            "12/12 [==============================] - 3s 247ms/step - loss: 0.2844 - accuracy: 0.8957 - val_loss: 0.2503 - val_accuracy: 0.8298\n",
            "Epoch 3/100\n",
            "12/12 [==============================] - 3s 246ms/step - loss: 0.1617 - accuracy: 0.9305 - val_loss: 0.1857 - val_accuracy: 0.9574\n",
            "Epoch 4/100\n",
            "12/12 [==============================] - 3s 246ms/step - loss: 0.1130 - accuracy: 0.9545 - val_loss: 0.0701 - val_accuracy: 0.9574\n",
            "Epoch 5/100\n",
            "12/12 [==============================] - 3s 248ms/step - loss: 0.0569 - accuracy: 0.9840 - val_loss: 0.0509 - val_accuracy: 1.0000\n",
            "Epoch 6/100\n",
            "12/12 [==============================] - 3s 249ms/step - loss: 0.0372 - accuracy: 0.9947 - val_loss: 0.0482 - val_accuracy: 0.9574\n",
            "Epoch 7/100\n",
            "12/12 [==============================] - 3s 247ms/step - loss: 0.0244 - accuracy: 0.9947 - val_loss: 0.0632 - val_accuracy: 0.9574\n",
            "Epoch 8/100\n",
            "12/12 [==============================] - 3s 248ms/step - loss: 0.0332 - accuracy: 0.9786 - val_loss: 0.0288 - val_accuracy: 1.0000\n",
            "Epoch 9/100\n",
            "12/12 [==============================] - 3s 248ms/step - loss: 0.0226 - accuracy: 0.9920 - val_loss: 0.0299 - val_accuracy: 1.0000\n",
            "2/2 [==============================] - 0s 64ms/step - loss: 0.0199 - accuracy: 1.0000\n",
            "Epoch 1/100\n",
            "12/12 [==============================] - 3s 268ms/step - loss: 1.1380 - accuracy: 0.6818 - val_loss: 0.3858 - val_accuracy: 0.9149\n",
            "Epoch 2/100\n",
            "12/12 [==============================] - 3s 248ms/step - loss: 0.2417 - accuracy: 0.9118 - val_loss: 0.1459 - val_accuracy: 0.9574\n",
            "Epoch 3/100\n",
            "12/12 [==============================] - 3s 251ms/step - loss: 0.1064 - accuracy: 0.9626 - val_loss: 0.0736 - val_accuracy: 0.9574\n",
            "Epoch 4/100\n",
            "12/12 [==============================] - 3s 250ms/step - loss: 0.0690 - accuracy: 0.9706 - val_loss: 0.0614 - val_accuracy: 1.0000\n",
            "Epoch 5/100\n",
            "12/12 [==============================] - 3s 251ms/step - loss: 0.0439 - accuracy: 0.9893 - val_loss: 0.0657 - val_accuracy: 0.9362\n",
            "Epoch 6/100\n",
            "12/12 [==============================] - 3s 251ms/step - loss: 0.0433 - accuracy: 0.9813 - val_loss: 0.0478 - val_accuracy: 0.9574\n",
            "Epoch 7/100\n",
            "12/12 [==============================] - 3s 251ms/step - loss: 0.0298 - accuracy: 0.9947 - val_loss: 0.0280 - val_accuracy: 1.0000\n",
            "Epoch 8/100\n",
            "12/12 [==============================] - 3s 252ms/step - loss: 0.0293 - accuracy: 0.9920 - val_loss: 0.0287 - val_accuracy: 1.0000\n",
            "2/2 [==============================] - 0s 66ms/step - loss: 0.0073 - accuracy: 1.0000\n",
            "Epoch 1/100\n",
            "12/12 [==============================] - 3s 270ms/step - loss: 1.2143 - accuracy: 0.6925 - val_loss: 0.4858 - val_accuracy: 0.8511\n",
            "Epoch 2/100\n",
            "12/12 [==============================] - 3s 250ms/step - loss: 0.2132 - accuracy: 0.9118 - val_loss: 0.1641 - val_accuracy: 0.9574\n",
            "Epoch 3/100\n",
            "12/12 [==============================] - 3s 251ms/step - loss: 0.0925 - accuracy: 0.9759 - val_loss: 0.1109 - val_accuracy: 0.9574\n",
            "Epoch 4/100\n",
            "12/12 [==============================] - 3s 251ms/step - loss: 0.0674 - accuracy: 0.9786 - val_loss: 0.0705 - val_accuracy: 1.0000\n",
            "Epoch 5/100\n",
            "12/12 [==============================] - 3s 250ms/step - loss: 0.0371 - accuracy: 1.0000 - val_loss: 0.0499 - val_accuracy: 1.0000\n",
            "Epoch 6/100\n",
            "12/12 [==============================] - 3s 251ms/step - loss: 0.0279 - accuracy: 1.0000 - val_loss: 0.0467 - val_accuracy: 1.0000\n",
            "Epoch 7/100\n",
            "12/12 [==============================] - 3s 251ms/step - loss: 0.0222 - accuracy: 1.0000 - val_loss: 0.0397 - val_accuracy: 1.0000\n",
            "Epoch 8/100\n",
            "12/12 [==============================] - 3s 251ms/step - loss: 0.0189 - accuracy: 1.0000 - val_loss: 0.0296 - val_accuracy: 1.0000\n",
            "2/2 [==============================] - 0s 66ms/step - loss: 0.1167 - accuracy: 0.9787\n",
            "Epoch 1/100\n",
            "12/12 [==============================] - 3s 272ms/step - loss: 1.2444 - accuracy: 0.6684 - val_loss: 0.3134 - val_accuracy: 0.8511\n",
            "Epoch 2/100\n",
            "12/12 [==============================] - 3s 253ms/step - loss: 0.1882 - accuracy: 0.9733 - val_loss: 0.1244 - val_accuracy: 1.0000\n",
            "Epoch 3/100\n",
            "12/12 [==============================] - 3s 252ms/step - loss: 0.1113 - accuracy: 0.9679 - val_loss: 0.0793 - val_accuracy: 0.9787\n",
            "Epoch 4/100\n",
            "12/12 [==============================] - 3s 253ms/step - loss: 0.0669 - accuracy: 0.9733 - val_loss: 0.3461 - val_accuracy: 0.8723\n",
            "Epoch 5/100\n",
            "12/12 [==============================] - 3s 253ms/step - loss: 0.0490 - accuracy: 0.9813 - val_loss: 0.0519 - val_accuracy: 0.9787\n",
            "Epoch 6/100\n",
            "12/12 [==============================] - 3s 252ms/step - loss: 0.0536 - accuracy: 0.9759 - val_loss: 0.0757 - val_accuracy: 1.0000\n",
            "2/2 [==============================] - 0s 64ms/step - loss: 0.0651 - accuracy: 0.9787\n",
            "Epoch 1/100\n",
            "12/12 [==============================] - 3s 271ms/step - loss: 1.2145 - accuracy: 0.6203 - val_loss: 0.4549 - val_accuracy: 0.8085\n",
            "Epoch 2/100\n",
            "12/12 [==============================] - 3s 251ms/step - loss: 0.2244 - accuracy: 0.9251 - val_loss: 0.1487 - val_accuracy: 0.9574\n",
            "Epoch 3/100\n",
            "12/12 [==============================] - 3s 250ms/step - loss: 0.1104 - accuracy: 0.9599 - val_loss: 0.0840 - val_accuracy: 0.9574\n",
            "Epoch 4/100\n",
            "12/12 [==============================] - 3s 252ms/step - loss: 0.0689 - accuracy: 0.9679 - val_loss: 0.0455 - val_accuracy: 1.0000\n",
            "Epoch 5/100\n",
            "12/12 [==============================] - 3s 251ms/step - loss: 0.0437 - accuracy: 0.9920 - val_loss: 0.0312 - val_accuracy: 1.0000\n",
            "Epoch 6/100\n",
            "12/12 [==============================] - 3s 250ms/step - loss: 0.0323 - accuracy: 0.9920 - val_loss: 0.0336 - val_accuracy: 1.0000\n",
            "Epoch 7/100\n",
            "12/12 [==============================] - 3s 250ms/step - loss: 0.0347 - accuracy: 0.9947 - val_loss: 0.0353 - val_accuracy: 1.0000\n",
            "Epoch 8/100\n",
            "12/12 [==============================] - 3s 250ms/step - loss: 0.0239 - accuracy: 0.9973 - val_loss: 0.0458 - val_accuracy: 0.9787\n",
            "2/2 [==============================] - 0s 64ms/step - loss: 0.0415 - accuracy: 1.0000\n",
            "Epoch 1/100\n",
            "12/12 [==============================] - 3s 272ms/step - loss: 1.2013 - accuracy: 0.6658 - val_loss: 0.0996 - val_accuracy: 1.0000\n",
            "Epoch 2/100\n",
            "12/12 [==============================] - 3s 252ms/step - loss: 0.2515 - accuracy: 0.9118 - val_loss: 0.0543 - val_accuracy: 0.9574\n",
            "Epoch 3/100\n",
            "12/12 [==============================] - 3s 253ms/step - loss: 0.1234 - accuracy: 0.9439 - val_loss: 0.0402 - val_accuracy: 1.0000\n",
            "Epoch 4/100\n",
            "12/12 [==============================] - 3s 252ms/step - loss: 0.0611 - accuracy: 0.9893 - val_loss: 0.0228 - val_accuracy: 1.0000\n",
            "Epoch 5/100\n",
            "12/12 [==============================] - 3s 252ms/step - loss: 0.0380 - accuracy: 0.9973 - val_loss: 0.0126 - val_accuracy: 1.0000\n",
            "2/2 [==============================] - 0s 63ms/step - loss: 0.0981 - accuracy: 0.9787\n",
            "Epoch 1/100\n",
            "12/12 [==============================] - 3s 272ms/step - loss: 1.2403 - accuracy: 0.7005 - val_loss: 0.2897 - val_accuracy: 0.9149\n",
            "Epoch 2/100\n",
            "12/12 [==============================] - 3s 252ms/step - loss: 0.2020 - accuracy: 0.9198 - val_loss: 0.0753 - val_accuracy: 0.9787\n",
            "Epoch 3/100\n",
            "12/12 [==============================] - 3s 250ms/step - loss: 0.1444 - accuracy: 0.9358 - val_loss: 0.0407 - val_accuracy: 1.0000\n",
            "Epoch 4/100\n",
            "12/12 [==============================] - 3s 253ms/step - loss: 0.0697 - accuracy: 0.9759 - val_loss: 0.0643 - val_accuracy: 1.0000\n",
            "Epoch 5/100\n",
            "12/12 [==============================] - 3s 252ms/step - loss: 0.0556 - accuracy: 0.9920 - val_loss: 0.0218 - val_accuracy: 1.0000\n",
            "Epoch 6/100\n",
            "12/12 [==============================] - 3s 253ms/step - loss: 0.0348 - accuracy: 0.9920 - val_loss: 0.0280 - val_accuracy: 1.0000\n",
            "Epoch 7/100\n",
            "12/12 [==============================] - 3s 251ms/step - loss: 0.0298 - accuracy: 1.0000 - val_loss: 0.0309 - val_accuracy: 1.0000\n",
            "2/2 [==============================] - 0s 65ms/step - loss: 0.1278 - accuracy: 0.9787\n",
            "Epoch 1/100\n",
            "12/12 [==============================] - 3s 269ms/step - loss: 1.1562 - accuracy: 0.6604 - val_loss: 0.4078 - val_accuracy: 0.8936\n",
            "Epoch 2/100\n",
            "12/12 [==============================] - 3s 251ms/step - loss: 0.2241 - accuracy: 0.9225 - val_loss: 0.1135 - val_accuracy: 0.9574\n",
            "Epoch 3/100\n",
            "12/12 [==============================] - 3s 250ms/step - loss: 0.1091 - accuracy: 0.9545 - val_loss: 0.0865 - val_accuracy: 0.9574\n",
            "Epoch 4/100\n",
            "12/12 [==============================] - 3s 251ms/step - loss: 0.0677 - accuracy: 0.9733 - val_loss: 0.0295 - val_accuracy: 1.0000\n",
            "Epoch 5/100\n",
            "12/12 [==============================] - 3s 250ms/step - loss: 0.0501 - accuracy: 0.9733 - val_loss: 0.0351 - val_accuracy: 1.0000\n",
            "Epoch 6/100\n",
            "12/12 [==============================] - 3s 251ms/step - loss: 0.0483 - accuracy: 0.9840 - val_loss: 0.0672 - val_accuracy: 0.9574\n",
            "Epoch 7/100\n",
            "12/12 [==============================] - 3s 251ms/step - loss: 0.0751 - accuracy: 0.9679 - val_loss: 0.0253 - val_accuracy: 0.9787\n",
            "Epoch 8/100\n",
            "12/12 [==============================] - 3s 251ms/step - loss: 0.0393 - accuracy: 0.9813 - val_loss: 0.0202 - val_accuracy: 1.0000\n",
            "2/2 [==============================] - 0s 64ms/step - loss: 0.0446 - accuracy: 1.0000\n",
            "Epoch 1/100\n",
            "12/12 [==============================] - 3s 269ms/step - loss: 1.0882 - accuracy: 0.6765 - val_loss: 0.5350 - val_accuracy: 0.9362\n",
            "Epoch 2/100\n",
            "12/12 [==============================] - 3s 250ms/step - loss: 0.1925 - accuracy: 0.9198 - val_loss: 0.3631 - val_accuracy: 0.9362\n",
            "Epoch 3/100\n",
            "12/12 [==============================] - 3s 251ms/step - loss: 0.0979 - accuracy: 0.9679 - val_loss: 0.1224 - val_accuracy: 0.9574\n",
            "Epoch 4/100\n",
            "12/12 [==============================] - 3s 251ms/step - loss: 0.0530 - accuracy: 0.9786 - val_loss: 0.0943 - val_accuracy: 0.9574\n",
            "Epoch 5/100\n",
            "12/12 [==============================] - 3s 250ms/step - loss: 0.0659 - accuracy: 0.9733 - val_loss: 0.0974 - val_accuracy: 0.9787\n",
            "Epoch 6/100\n",
            "12/12 [==============================] - 3s 251ms/step - loss: 0.1022 - accuracy: 0.9626 - val_loss: 0.0460 - val_accuracy: 1.0000\n",
            "Epoch 7/100\n",
            "12/12 [==============================] - 3s 249ms/step - loss: 0.0692 - accuracy: 0.9786 - val_loss: 0.0769 - val_accuracy: 1.0000\n",
            "Epoch 8/100\n",
            "12/12 [==============================] - 3s 251ms/step - loss: 0.0447 - accuracy: 0.9866 - val_loss: 0.0791 - val_accuracy: 0.9787\n",
            "Epoch 9/100\n",
            "12/12 [==============================] - 3s 251ms/step - loss: 0.0562 - accuracy: 0.9706 - val_loss: 0.0516 - val_accuracy: 1.0000\n",
            "Epoch 10/100\n",
            "12/12 [==============================] - 3s 251ms/step - loss: 0.0197 - accuracy: 0.9973 - val_loss: 0.0390 - val_accuracy: 1.0000\n",
            "2/2 [==============================] - 0s 63ms/step - loss: 0.0220 - accuracy: 1.0000\n",
            "Epoch 1/100\n",
            "12/12 [==============================] - 3s 272ms/step - loss: 1.1138 - accuracy: 0.6738 - val_loss: 0.2712 - val_accuracy: 0.9574\n",
            "Epoch 2/100\n",
            "12/12 [==============================] - 3s 251ms/step - loss: 0.1970 - accuracy: 0.9332 - val_loss: 0.0836 - val_accuracy: 0.9574\n",
            "Epoch 3/100\n",
            "12/12 [==============================] - 3s 250ms/step - loss: 0.0866 - accuracy: 0.9679 - val_loss: 0.0543 - val_accuracy: 0.9787\n",
            "Epoch 4/100\n",
            "12/12 [==============================] - 3s 250ms/step - loss: 0.0748 - accuracy: 0.9759 - val_loss: 0.0803 - val_accuracy: 0.9574\n",
            "Epoch 5/100\n",
            "12/12 [==============================] - 3s 251ms/step - loss: 0.0727 - accuracy: 0.9813 - val_loss: 0.1192 - val_accuracy: 0.9787\n",
            "Epoch 6/100\n",
            "12/12 [==============================] - 3s 250ms/step - loss: 0.0349 - accuracy: 1.0000 - val_loss: 0.0254 - val_accuracy: 1.0000\n",
            "Epoch 7/100\n",
            "12/12 [==============================] - 3s 249ms/step - loss: 0.0228 - accuracy: 1.0000 - val_loss: 0.0200 - val_accuracy: 1.0000\n",
            "Epoch 8/100\n",
            "12/12 [==============================] - 3s 251ms/step - loss: 0.0186 - accuracy: 1.0000 - val_loss: 0.0262 - val_accuracy: 1.0000\n",
            "Epoch 9/100\n",
            "12/12 [==============================] - 3s 250ms/step - loss: 0.0172 - accuracy: 1.0000 - val_loss: 0.0206 - val_accuracy: 1.0000\n",
            "Epoch 10/100\n",
            "12/12 [==============================] - 3s 250ms/step - loss: 0.0186 - accuracy: 0.9947 - val_loss: 0.0150 - val_accuracy: 1.0000\n",
            "2/2 [==============================] - 0s 68ms/step - loss: 0.0077 - accuracy: 1.0000\n",
            "Epoch 1/100\n",
            "12/12 [==============================] - 3s 269ms/step - loss: 1.1604 - accuracy: 0.6524 - val_loss: 0.2850 - val_accuracy: 0.8723\n",
            "Epoch 2/100\n",
            "12/12 [==============================] - 3s 250ms/step - loss: 0.2770 - accuracy: 0.8904 - val_loss: 0.1879 - val_accuracy: 0.8936\n",
            "Epoch 3/100\n",
            "12/12 [==============================] - 3s 250ms/step - loss: 0.0964 - accuracy: 0.9679 - val_loss: 0.0534 - val_accuracy: 1.0000\n",
            "Epoch 4/100\n",
            "12/12 [==============================] - 3s 251ms/step - loss: 0.1093 - accuracy: 0.9626 - val_loss: 0.0954 - val_accuracy: 0.9362\n",
            "Epoch 5/100\n",
            "12/12 [==============================] - 3s 251ms/step - loss: 0.0759 - accuracy: 0.9652 - val_loss: 0.0260 - val_accuracy: 1.0000\n",
            "Epoch 6/100\n",
            "12/12 [==============================] - 3s 250ms/step - loss: 0.0421 - accuracy: 0.9866 - val_loss: 0.0345 - val_accuracy: 1.0000\n",
            "Epoch 7/100\n",
            "12/12 [==============================] - 3s 251ms/step - loss: 0.0308 - accuracy: 0.9947 - val_loss: 0.0359 - val_accuracy: 1.0000\n",
            "2/2 [==============================] - 0s 65ms/step - loss: 0.0073 - accuracy: 1.0000\n",
            "Epoch 1/100\n",
            "12/12 [==============================] - 3s 270ms/step - loss: 1.1583 - accuracy: 0.6551 - val_loss: 0.6075 - val_accuracy: 0.8723\n",
            "Epoch 2/100\n",
            "12/12 [==============================] - 3s 251ms/step - loss: 0.2544 - accuracy: 0.8984 - val_loss: 0.5982 - val_accuracy: 0.7872\n",
            "Epoch 3/100\n",
            "12/12 [==============================] - 3s 251ms/step - loss: 0.1233 - accuracy: 0.9492 - val_loss: 0.3085 - val_accuracy: 0.8936\n",
            "Epoch 4/100\n",
            "12/12 [==============================] - 3s 252ms/step - loss: 0.0793 - accuracy: 0.9679 - val_loss: 0.1304 - val_accuracy: 0.9362\n",
            "Epoch 5/100\n",
            "12/12 [==============================] - 3s 251ms/step - loss: 0.0635 - accuracy: 0.9759 - val_loss: 0.1955 - val_accuracy: 0.9574\n",
            "Epoch 6/100\n",
            "12/12 [==============================] - 3s 251ms/step - loss: 0.0421 - accuracy: 0.9973 - val_loss: 0.1379 - val_accuracy: 0.9574\n",
            "Epoch 7/100\n",
            "12/12 [==============================] - 3s 251ms/step - loss: 0.0250 - accuracy: 1.0000 - val_loss: 0.0348 - val_accuracy: 1.0000\n",
            "Epoch 8/100\n",
            "12/12 [==============================] - 3s 250ms/step - loss: 0.0205 - accuracy: 1.0000 - val_loss: 0.0601 - val_accuracy: 0.9574\n",
            "Epoch 9/100\n",
            "12/12 [==============================] - 3s 251ms/step - loss: 0.0162 - accuracy: 1.0000 - val_loss: 0.0934 - val_accuracy: 0.9574\n",
            "Epoch 10/100\n",
            "12/12 [==============================] - 3s 250ms/step - loss: 0.0149 - accuracy: 0.9973 - val_loss: 0.0478 - val_accuracy: 0.9787\n",
            "Epoch 11/100\n",
            "12/12 [==============================] - 3s 250ms/step - loss: 0.0145 - accuracy: 1.0000 - val_loss: 0.0430 - val_accuracy: 0.9787\n",
            "2/2 [==============================] - 0s 64ms/step - loss: 0.0250 - accuracy: 1.0000\n",
            "Epoch 1/100\n",
            "12/12 [==============================] - 3s 270ms/step - loss: 1.0234 - accuracy: 0.6818 - val_loss: 0.4725 - val_accuracy: 0.8723\n",
            "Epoch 2/100\n",
            "12/12 [==============================] - 3s 254ms/step - loss: 0.1752 - accuracy: 0.9439 - val_loss: 0.2179 - val_accuracy: 0.9362\n",
            "Epoch 3/100\n",
            "12/12 [==============================] - 3s 251ms/step - loss: 0.0832 - accuracy: 0.9786 - val_loss: 0.1223 - val_accuracy: 0.9574\n",
            "Epoch 4/100\n",
            "12/12 [==============================] - 3s 251ms/step - loss: 0.0567 - accuracy: 0.9706 - val_loss: 0.0910 - val_accuracy: 0.9787\n",
            "Epoch 5/100\n",
            "12/12 [==============================] - 3s 252ms/step - loss: 0.0403 - accuracy: 0.9920 - val_loss: 0.0740 - val_accuracy: 0.9787\n",
            "Epoch 6/100\n",
            "12/12 [==============================] - 3s 252ms/step - loss: 0.0273 - accuracy: 0.9973 - val_loss: 0.0731 - val_accuracy: 0.9574\n",
            "Epoch 7/100\n",
            "12/12 [==============================] - 3s 251ms/step - loss: 0.0342 - accuracy: 0.9840 - val_loss: 0.0809 - val_accuracy: 0.9574\n",
            "Epoch 8/100\n",
            "12/12 [==============================] - 3s 250ms/step - loss: 0.0193 - accuracy: 1.0000 - val_loss: 0.1054 - val_accuracy: 0.9787\n",
            "2/2 [==============================] - 0s 63ms/step - loss: 0.0252 - accuracy: 1.0000\n",
            "Epoch 1/100\n",
            "12/12 [==============================] - 3s 271ms/step - loss: 1.1033 - accuracy: 0.6925 - val_loss: 0.3305 - val_accuracy: 0.9362\n",
            "Epoch 2/100\n",
            "12/12 [==============================] - 3s 251ms/step - loss: 0.1939 - accuracy: 0.9599 - val_loss: 0.1457 - val_accuracy: 0.9787\n",
            "Epoch 3/100\n",
            "12/12 [==============================] - 3s 251ms/step - loss: 0.0682 - accuracy: 0.9866 - val_loss: 0.1297 - val_accuracy: 0.9787\n",
            "Epoch 4/100\n",
            "12/12 [==============================] - 3s 251ms/step - loss: 0.0467 - accuracy: 0.9920 - val_loss: 0.1543 - val_accuracy: 0.9787\n",
            "Epoch 5/100\n",
            "12/12 [==============================] - 3s 251ms/step - loss: 0.0468 - accuracy: 0.9786 - val_loss: 0.1538 - val_accuracy: 0.9787\n",
            "Epoch 6/100\n",
            "12/12 [==============================] - 3s 250ms/step - loss: 0.0313 - accuracy: 0.9920 - val_loss: 0.1434 - val_accuracy: 0.9787\n",
            "2/2 [==============================] - 0s 65ms/step - loss: 0.1521 - accuracy: 0.9787\n",
            "Epoch 1/100\n",
            "12/12 [==============================] - 3s 271ms/step - loss: 1.0917 - accuracy: 0.7299 - val_loss: 0.3676 - val_accuracy: 0.9149\n",
            "Epoch 2/100\n",
            "12/12 [==============================] - 3s 251ms/step - loss: 0.2579 - accuracy: 0.9091 - val_loss: 0.4057 - val_accuracy: 0.8936\n",
            "Epoch 3/100\n",
            "12/12 [==============================] - 3s 251ms/step - loss: 0.1140 - accuracy: 0.9679 - val_loss: 0.0857 - val_accuracy: 0.9787\n",
            "Epoch 4/100\n",
            "12/12 [==============================] - 3s 252ms/step - loss: 0.0594 - accuracy: 0.9840 - val_loss: 0.1022 - val_accuracy: 0.9149\n",
            "Epoch 5/100\n",
            "12/12 [==============================] - 3s 251ms/step - loss: 0.0570 - accuracy: 0.9813 - val_loss: 0.2455 - val_accuracy: 0.9149\n",
            "Epoch 6/100\n",
            "12/12 [==============================] - 3s 250ms/step - loss: 0.0483 - accuracy: 0.9813 - val_loss: 0.0179 - val_accuracy: 1.0000\n",
            "Epoch 7/100\n",
            "12/12 [==============================] - 3s 251ms/step - loss: 0.0315 - accuracy: 0.9840 - val_loss: 0.0562 - val_accuracy: 1.0000\n",
            "Epoch 8/100\n",
            "12/12 [==============================] - 3s 251ms/step - loss: 0.0231 - accuracy: 1.0000 - val_loss: 0.0416 - val_accuracy: 0.9787\n",
            "Epoch 9/100\n",
            "12/12 [==============================] - 3s 252ms/step - loss: 0.0176 - accuracy: 1.0000 - val_loss: 0.0187 - val_accuracy: 1.0000\n",
            "Epoch 10/100\n",
            "12/12 [==============================] - 3s 250ms/step - loss: 0.0151 - accuracy: 1.0000 - val_loss: 0.0372 - val_accuracy: 1.0000\n",
            "2/2 [==============================] - 0s 63ms/step - loss: 0.0539 - accuracy: 1.0000\n",
            "Epoch 1/100\n",
            "12/12 [==============================] - 3s 270ms/step - loss: 1.2433 - accuracy: 0.6658 - val_loss: 0.4508 - val_accuracy: 0.8723\n",
            "Epoch 2/100\n",
            "12/12 [==============================] - 3s 254ms/step - loss: 0.2000 - accuracy: 0.9412 - val_loss: 0.0768 - val_accuracy: 0.9787\n",
            "Epoch 3/100\n",
            "12/12 [==============================] - 3s 252ms/step - loss: 0.1156 - accuracy: 0.9572 - val_loss: 0.0554 - val_accuracy: 0.9787\n",
            "Epoch 4/100\n",
            "12/12 [==============================] - 3s 253ms/step - loss: 0.0840 - accuracy: 0.9679 - val_loss: 0.0533 - val_accuracy: 0.9787\n",
            "Epoch 5/100\n",
            "12/12 [==============================] - 3s 253ms/step - loss: 0.0564 - accuracy: 0.9733 - val_loss: 0.0321 - val_accuracy: 1.0000\n",
            "Epoch 6/100\n",
            "12/12 [==============================] - 3s 251ms/step - loss: 0.0460 - accuracy: 0.9759 - val_loss: 0.1102 - val_accuracy: 0.9574\n",
            "Epoch 7/100\n",
            "12/12 [==============================] - 3s 252ms/step - loss: 0.0333 - accuracy: 0.9920 - val_loss: 0.0249 - val_accuracy: 1.0000\n",
            "Epoch 8/100\n",
            "12/12 [==============================] - 3s 251ms/step - loss: 0.0208 - accuracy: 1.0000 - val_loss: 0.0237 - val_accuracy: 0.9787\n",
            "Epoch 9/100\n",
            "12/12 [==============================] - 3s 251ms/step - loss: 0.0195 - accuracy: 1.0000 - val_loss: 0.0196 - val_accuracy: 1.0000\n",
            "2/2 [==============================] - 0s 63ms/step - loss: 0.0348 - accuracy: 0.9787\n",
            "Epoch 1/100\n",
            "12/12 [==============================] - 3s 272ms/step - loss: 1.2243 - accuracy: 0.6364 - val_loss: 0.3632 - val_accuracy: 0.8936\n",
            "Epoch 2/100\n",
            "12/12 [==============================] - 3s 250ms/step - loss: 0.2314 - accuracy: 0.9225 - val_loss: 0.1888 - val_accuracy: 0.9362\n",
            "Epoch 3/100\n",
            "12/12 [==============================] - 3s 250ms/step - loss: 0.1249 - accuracy: 0.9439 - val_loss: 0.0425 - val_accuracy: 1.0000\n",
            "Epoch 4/100\n",
            "12/12 [==============================] - 3s 249ms/step - loss: 0.0618 - accuracy: 0.9759 - val_loss: 0.0222 - val_accuracy: 1.0000\n",
            "Epoch 5/100\n",
            "12/12 [==============================] - 3s 250ms/step - loss: 0.0634 - accuracy: 0.9652 - val_loss: 0.0243 - val_accuracy: 1.0000\n",
            "Epoch 6/100\n",
            "12/12 [==============================] - 3s 251ms/step - loss: 0.0429 - accuracy: 0.9893 - val_loss: 0.0176 - val_accuracy: 1.0000\n",
            "Epoch 7/100\n",
            "12/12 [==============================] - 3s 252ms/step - loss: 0.0576 - accuracy: 0.9706 - val_loss: 0.0766 - val_accuracy: 0.9787\n",
            "2/2 [==============================] - 0s 66ms/step - loss: 0.0106 - accuracy: 1.0000\n",
            "Epoch 1/100\n",
            "12/12 [==============================] - 3s 268ms/step - loss: 1.0797 - accuracy: 0.6925 - val_loss: 0.5204 - val_accuracy: 0.8723\n",
            "Epoch 2/100\n",
            "12/12 [==============================] - 3s 250ms/step - loss: 0.2008 - accuracy: 0.9492 - val_loss: 0.2659 - val_accuracy: 0.9149\n",
            "Epoch 3/100\n",
            "12/12 [==============================] - 3s 250ms/step - loss: 0.1214 - accuracy: 0.9572 - val_loss: 0.2314 - val_accuracy: 0.9362\n",
            "Epoch 4/100\n",
            "12/12 [==============================] - 3s 251ms/step - loss: 0.0879 - accuracy: 0.9759 - val_loss: 0.3202 - val_accuracy: 0.8723\n",
            "Epoch 5/100\n",
            "12/12 [==============================] - 3s 251ms/step - loss: 0.0975 - accuracy: 0.9626 - val_loss: 0.1813 - val_accuracy: 0.9574\n",
            "Epoch 6/100\n",
            "12/12 [==============================] - 3s 251ms/step - loss: 0.0468 - accuracy: 0.9786 - val_loss: 0.1674 - val_accuracy: 0.9362\n",
            "Epoch 7/100\n",
            "12/12 [==============================] - 3s 251ms/step - loss: 0.0487 - accuracy: 0.9706 - val_loss: 0.1599 - val_accuracy: 0.9787\n",
            "Epoch 8/100\n",
            "12/12 [==============================] - 3s 249ms/step - loss: 0.0253 - accuracy: 0.9947 - val_loss: 0.1631 - val_accuracy: 0.9787\n",
            "Epoch 9/100\n",
            "12/12 [==============================] - 3s 251ms/step - loss: 0.0191 - accuracy: 0.9973 - val_loss: 0.1356 - val_accuracy: 0.9787\n",
            "Epoch 10/100\n",
            "12/12 [==============================] - 3s 249ms/step - loss: 0.0151 - accuracy: 1.0000 - val_loss: 0.1346 - val_accuracy: 0.9787\n",
            "Epoch 11/100\n",
            "12/12 [==============================] - 3s 251ms/step - loss: 0.0147 - accuracy: 1.0000 - val_loss: 0.1347 - val_accuracy: 0.9787\n",
            "2/2 [==============================] - 0s 63ms/step - loss: 0.0052 - accuracy: 1.0000\n",
            "Epoch 1/100\n",
            "12/12 [==============================] - 3s 268ms/step - loss: 1.1369 - accuracy: 0.6738 - val_loss: 0.5117 - val_accuracy: 0.9362\n",
            "Epoch 2/100\n",
            "12/12 [==============================] - 3s 249ms/step - loss: 0.2330 - accuracy: 0.9198 - val_loss: 0.3705 - val_accuracy: 0.9574\n",
            "Epoch 3/100\n",
            "12/12 [==============================] - 3s 250ms/step - loss: 0.1403 - accuracy: 0.9652 - val_loss: 0.2555 - val_accuracy: 0.9787\n",
            "Epoch 4/100\n",
            "12/12 [==============================] - 3s 250ms/step - loss: 0.1060 - accuracy: 0.9652 - val_loss: 0.1327 - val_accuracy: 0.9787\n",
            "Epoch 5/100\n",
            "12/12 [==============================] - 3s 250ms/step - loss: 0.0583 - accuracy: 0.9679 - val_loss: 0.0502 - val_accuracy: 1.0000\n",
            "Epoch 6/100\n",
            "12/12 [==============================] - 3s 251ms/step - loss: 0.0312 - accuracy: 1.0000 - val_loss: 0.0504 - val_accuracy: 1.0000\n",
            "Epoch 7/100\n",
            "12/12 [==============================] - 3s 251ms/step - loss: 0.0236 - accuracy: 0.9973 - val_loss: 0.0363 - val_accuracy: 1.0000\n",
            "Epoch 8/100\n",
            "12/12 [==============================] - 3s 251ms/step - loss: 0.0205 - accuracy: 1.0000 - val_loss: 0.0224 - val_accuracy: 1.0000\n",
            "Epoch 9/100\n",
            "12/12 [==============================] - 3s 250ms/step - loss: 0.0161 - accuracy: 1.0000 - val_loss: 0.0284 - val_accuracy: 1.0000\n",
            "2/2 [==============================] - 0s 65ms/step - loss: 0.0226 - accuracy: 1.0000\n"
          ],
          "name": "stdout"
        }
      ]
    },
    {
      "cell_type": "code",
      "metadata": {
        "id": "HFGmvBOin2mb",
        "colab_type": "code",
        "colab": {
          "base_uri": "https://localhost:8080/",
          "height": 122
        },
        "outputId": "cba39042-59ea-4272-81f4-762463764bd1"
      },
      "source": [
        "loss = []\n",
        "accuracy = []\n",
        "val_loss = []\n",
        "val_accuracy = []\n",
        "score1 = []\n",
        "\n",
        "for i in range(1,21):\n",
        "\n",
        "  my_key = i\n",
        "\n",
        "  loss0=  my_dict[\"H\"+str(i)].history[\"loss\"][-1]\n",
        "  loss.append(loss0)\n",
        "\n",
        "  accuracy0=  my_dict[\"H\"+str(i)].history[\"accuracy\"][-1]\n",
        "  accuracy.append(accuracy0)\n",
        "\n",
        "  val_loss0=  my_dict[\"H\"+str(i)].history[\"val_loss\"][-1]\n",
        "  val_loss.append(val_loss0)\n",
        "  \n",
        "  val_accuracy0=  my_dict[\"H\"+str(i)].history[\"val_accuracy\"][-1]\n",
        "  val_accuracy.append(val_accuracy0)\n",
        "\n",
        "  score0=  score_eval[\"score\"+str(i)][1]*100\n",
        "  score1.append(score0)\n",
        "  \n",
        "  #print(my_dict[\"H\"+str(i)].history[\"loss\"][-1])\n",
        "  #print(my_dict[\"H\"+str(i)].history[\"accuracy\"][-1])\n",
        "  #print(my_dict[\"H\"+str(i)].history[\"val_loss\"][-1])\n",
        "  #print(my_dict[\"H\"+str(i)].history[\"val_accuracy\"][-1])\n",
        "  #print(score_eval[\"score\"+str(i)][1]*100)\n",
        "\n",
        "print(loss)\n",
        "print(accuracy)\n",
        "print(val_loss)\n",
        "print(val_accuracy)\n",
        "print(score1)"
      ],
      "execution_count": null,
      "outputs": [
        {
          "output_type": "stream",
          "text": [
            "[0.01366091426461935, 0.022576097398996353, 0.029316669330000877, 0.018876655027270317, 0.053623016923666, 0.023860080167651176, 0.03798238933086395, 0.029777303338050842, 0.039265867322683334, 0.019689613953232765, 0.018555279821157455, 0.03080148994922638, 0.014490501023828983, 0.019335255026817322, 0.031342439353466034, 0.015077034942805767, 0.019453592598438263, 0.05760549008846283, 0.014719666913151741, 0.016056464985013008]\n",
            "[1.0, 0.9919785857200623, 0.9919785857200623, 1.0, 0.9759358167648315, 0.9973261952400208, 0.9973261952400208, 1.0, 0.98128342628479, 0.9973261952400208, 0.9946523904800415, 0.9946523904800415, 1.0, 1.0, 0.9919785857200623, 1.0, 1.0, 0.970588207244873, 1.0, 1.0]\n",
            "[0.03630268946290016, 0.02990351803600788, 0.028713421896100044, 0.029596103355288506, 0.07567716389894485, 0.0457565113902092, 0.012568119913339615, 0.030918337404727936, 0.020162247121334076, 0.03897269442677498, 0.014994337223470211, 0.03594718873500824, 0.043020155280828476, 0.10538993030786514, 0.14337660372257233, 0.037171877920627594, 0.019589854404330254, 0.07663729786872864, 0.13474740087985992, 0.028433451429009438]\n",
            "[0.978723406791687, 1.0, 1.0, 1.0, 1.0, 0.978723406791687, 1.0, 1.0, 1.0, 1.0, 1.0, 1.0, 0.978723406791687, 0.978723406791687, 0.978723406791687, 1.0, 1.0, 0.978723406791687, 0.978723406791687, 1.0]\n",
            "[97.8723406791687, 100.0, 100.0, 97.8723406791687, 97.8723406791687, 100.0, 97.8723406791687, 97.8723406791687, 100.0, 100.0, 100.0, 100.0, 100.0, 100.0, 97.8723406791687, 100.0, 97.8723406791687, 100.0, 100.0, 100.0]\n"
          ],
          "name": "stdout"
        }
      ]
    },
    {
      "cell_type": "code",
      "metadata": {
        "id": "vq9pFH-hqzcV",
        "colab_type": "code",
        "colab": {
          "base_uri": "https://localhost:8080/",
          "height": 763
        },
        "outputId": "c76680f2-bf4b-4d8e-9d9b-9ccebd157ce8"
      },
      "source": [
        "# box plot \"Loss\"\n",
        "\n",
        "BoxName1 = ['val_loss']\n",
        "databoxplot1 = [val_loss]\n",
        "plt.boxplot(databoxplot1)\n",
        "pylab.xticks([1], BoxName1)\n",
        "plt.show()\n",
        "\n",
        "# box plot \"accuracy\"\n",
        "\n",
        "BoxName2 = ['val_accuracy']\n",
        "databoxplot2 = [val_accuracy]\n",
        "plt.boxplot(databoxplot2)\n",
        "pylab.xticks([1], BoxName2)\n",
        "plt.show()\n",
        "\n",
        "# box plot \"score\"\n",
        "\n",
        "BoxName3 = ['score']\n",
        "databoxplot3 = [score1]\n",
        "plt.boxplot(databoxplot3)\n",
        "pylab.xticks([1], BoxName3)\n",
        "plt.show()\n",
        "\n",
        "#package seaborn pour plus jolie\n",
        "#https://cmdlinetips.com/2018/03/how-to-make-boxplots-in-python-with-pandas-and-seaborn/"
      ],
      "execution_count": null,
      "outputs": [
        {
          "output_type": "display_data",
          "data": {
            "image/png": "[encoded data removed]",
            "text/plain": [
              "<Figure size 432x288 with 1 Axes>"
            ]
          },
          "metadata": {
            "tags": [],
            "needs_background": "light"
          }
        },
        {
          "output_type": "display_data",
          "data": {
            "image/png": "[encoded data removed]",
            "text/plain": [
              "<Figure size 432x288 with 1 Axes>"
            ]
          },
          "metadata": {
            "tags": [],
            "needs_background": "light"
          }
        },
        {
          "output_type": "display_data",
          "data": {
            "image/png": "[encoded data removed]",
            "text/plain": [
              "<Figure size 432x288 with 1 Axes>"
            ]
          },
          "metadata": {
            "tags": [],
            "needs_background": "light"
          }
        }
      ]
    },
    {
      "cell_type": "markdown",
      "metadata": {
        "id": "3oOwOX5suZ4P",
        "colab_type": "text"
      },
      "source": [
        "à regarder"
      ]
    },
    {
      "cell_type": "code",
      "metadata": {
        "id": "PUWlL37_7oip",
        "colab_type": "code",
        "colab": {}
      },
      "source": [
        "add a dense layer\n",
        "modify the number of neurons in dense layer(s)\n",
        "change the global average polling\n",
        "experiment other optimizers (SGD, Adam, ...)"
      ],
      "execution_count": null,
      "outputs": []
    }
  ]
}