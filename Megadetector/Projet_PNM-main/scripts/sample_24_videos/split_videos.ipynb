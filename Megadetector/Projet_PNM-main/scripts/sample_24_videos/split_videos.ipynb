{
  "nbformat": 4,
  "nbformat_minor": 0,
  "metadata": {
    "colab": {
      "name": "split_videos.ipynb",
      "provenance": [],
      "collapsed_sections": []
    },
    "kernelspec": {
      "name": "python3",
      "display_name": "Python 3"
    },
    "accelerator": "GPU"
  },
  "cells": [
    {
      "cell_type": "code",
      "metadata": {
        "id": "quJn-UtqMrJK",
        "colab_type": "code",
        "colab": {}
      },
      "source": [
        "# for one video\n",
        "\n",
        "import cv2\n",
        "import os\n",
        "\n",
        "os.chdir(\"/content/drive/My Drive/projet_mercantour/\")\n",
        "\n",
        "vidcap = cv2.VideoCapture(\"video/maille07_chamois_x1_jour.MP4\")\n",
        "success,image = vidcap.read()\n",
        "count = 0\n",
        "success = True\n",
        "while success:\n",
        "  success,image = vidcap.read()\n",
        "  print('Read a new frame: ', success)\n",
        "  cv2.imwrite(\"picture/frame%d.jpg\" % count, image)     # save frame as JPEG file\n",
        "  count += 1"
      ],
      "execution_count": null,
      "outputs": []
    },
    {
      "cell_type": "code",
      "metadata": {
        "id": "tUXnp5Id29hu",
        "colab_type": "code",
        "colab": {}
      },
      "source": [
        "# for multiple videos \n",
        "\n",
        "import cv2\n",
        "import os\n",
        "\n",
        "count = 0\n",
        "counter = 1\n",
        "dir_video = \"/content/drive/My Drive/projet_mercantour/video\"\n",
        "videoList = os.listdir(dir_video)\n",
        "for path in videoList:\n",
        "  name_img = path.replace('.MP4', '')\n",
        "  vidcap = cv2.VideoCapture(os.path.join(dir_video,path)) \n",
        "  success,image = vidcap.read()\n",
        "  count = 0\n",
        "  counter += 1\n",
        "  success = True\n",
        "  while success:\n",
        "    success,image = vidcap.read()\n",
        "    print('Read a new frame: ', success)\n",
        "    if count%30 == 0 : #for split by 30, if I try 5, 1 or 10 it always missing pictures ....\n",
        "        cv2.imwrite(\"/content/drive/My Drive/projet_mercantour/picture/\" + name_img + \"frame%d.jpg\"%count ,image)     # save frame as JPEG file\n",
        "    count += 1\n",
        "\n",
        "    "
      ],
      "execution_count": null,
      "outputs": []
    }
  ]
}